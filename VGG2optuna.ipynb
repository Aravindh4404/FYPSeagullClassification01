{
  "nbformat": 4,
  "nbformat_minor": 0,
  "metadata": {
    "colab": {
      "provenance": [],
      "gpuType": "T4",
      "mount_file_id": "1heMf-jgFuE04wuozhNl1C1ZjAmcoy01q",
      "authorship_tag": "ABX9TyMeQVVF57mePq9Logkdet4e",
      "include_colab_link": true
    },
    "kernelspec": {
      "name": "python3",
      "display_name": "Python 3"
    },
    "language_info": {
      "name": "python"
    },
    "accelerator": "GPU"
  },
  "cells": [
    {
      "cell_type": "markdown",
      "metadata": {
        "id": "view-in-github",
        "colab_type": "text"
      },
      "source": [
        "<a href=\"https://colab.research.google.com/github/Aravindh4404/FYPSeagullClassification01/blob/main/VGG2optuna.ipynb\" target=\"_parent\"><img src=\"https://colab.research.google.com/assets/colab-badge.svg\" alt=\"Open In Colab\"/></a>"
      ]
    },
    {
      "cell_type": "code",
      "source": [
        "!pip install optuna"
      ],
      "metadata": {
        "colab": {
          "base_uri": "https://localhost:8080/"
        },
        "id": "jIBee7LkhUBK",
        "outputId": "ae239d66-1fac-4c6b-da1d-3334dcbb49e7"
      },
      "execution_count": null,
      "outputs": [
        {
          "output_type": "stream",
          "name": "stdout",
          "text": [
            "Collecting optuna\n",
            "  Downloading optuna-4.1.0-py3-none-any.whl.metadata (16 kB)\n",
            "Collecting alembic>=1.5.0 (from optuna)\n",
            "  Downloading alembic-1.14.0-py3-none-any.whl.metadata (7.4 kB)\n",
            "Collecting colorlog (from optuna)\n",
            "  Downloading colorlog-6.9.0-py3-none-any.whl.metadata (10 kB)\n",
            "Requirement already satisfied: numpy in /usr/local/lib/python3.10/dist-packages (from optuna) (1.26.4)\n",
            "Requirement already satisfied: packaging>=20.0 in /usr/local/lib/python3.10/dist-packages (from optuna) (24.2)\n",
            "Requirement already satisfied: sqlalchemy>=1.4.2 in /usr/local/lib/python3.10/dist-packages (from optuna) (2.0.36)\n",
            "Requirement already satisfied: tqdm in /usr/local/lib/python3.10/dist-packages (from optuna) (4.66.6)\n",
            "Requirement already satisfied: PyYAML in /usr/local/lib/python3.10/dist-packages (from optuna) (6.0.2)\n",
            "Collecting Mako (from alembic>=1.5.0->optuna)\n",
            "  Downloading Mako-1.3.8-py3-none-any.whl.metadata (2.9 kB)\n",
            "Requirement already satisfied: typing-extensions>=4 in /usr/local/lib/python3.10/dist-packages (from alembic>=1.5.0->optuna) (4.12.2)\n",
            "Requirement already satisfied: greenlet!=0.4.17 in /usr/local/lib/python3.10/dist-packages (from sqlalchemy>=1.4.2->optuna) (3.1.1)\n",
            "Requirement already satisfied: MarkupSafe>=0.9.2 in /usr/local/lib/python3.10/dist-packages (from Mako->alembic>=1.5.0->optuna) (3.0.2)\n",
            "Downloading optuna-4.1.0-py3-none-any.whl (364 kB)\n",
            "\u001b[2K   \u001b[90m━━━━━━━━━━━━━━━━━━━━━━━━━━━━━━━━━━━━━━━━\u001b[0m \u001b[32m364.4/364.4 kB\u001b[0m \u001b[31m11.3 MB/s\u001b[0m eta \u001b[36m0:00:00\u001b[0m\n",
            "\u001b[?25hDownloading alembic-1.14.0-py3-none-any.whl (233 kB)\n",
            "\u001b[2K   \u001b[90m━━━━━━━━━━━━━━━━━━━━━━━━━━━━━━━━━━━━━━━━\u001b[0m \u001b[32m233.5/233.5 kB\u001b[0m \u001b[31m21.1 MB/s\u001b[0m eta \u001b[36m0:00:00\u001b[0m\n",
            "\u001b[?25hDownloading colorlog-6.9.0-py3-none-any.whl (11 kB)\n",
            "Downloading Mako-1.3.8-py3-none-any.whl (78 kB)\n",
            "\u001b[2K   \u001b[90m━━━━━━━━━━━━━━━━━━━━━━━━━━━━━━━━━━━━━━━━\u001b[0m \u001b[32m78.6/78.6 kB\u001b[0m \u001b[31m6.4 MB/s\u001b[0m eta \u001b[36m0:00:00\u001b[0m\n",
            "\u001b[?25hInstalling collected packages: Mako, colorlog, alembic, optuna\n",
            "Successfully installed Mako-1.3.8 alembic-1.14.0 colorlog-6.9.0 optuna-4.1.0\n"
          ]
        }
      ]
    },
    {
      "cell_type": "code",
      "execution_count": null,
      "metadata": {
        "id": "He-kJDTR1gFo",
        "colab": {
          "base_uri": "https://localhost:8080/"
        },
        "outputId": "09ba9593-334a-497c-d6e2-0add0bcdbe67"
      },
      "outputs": [
        {
          "metadata": {
            "tags": null
          },
          "name": "stdout",
          "output_type": "stream",
          "text": [
            "Using device: cuda\n",
            "Drive already mounted at /content/drive; to attempt to forcibly remount, call drive.mount(\"/content/drive\", force_remount=True).\n"
          ]
        },
        {
          "metadata": {
            "tags": null
          },
          "name": "stderr",
          "output_type": "stream",
          "text": [
            "/usr/local/lib/python3.10/dist-packages/torch/utils/data/dataloader.py:617: UserWarning: This DataLoader will create 4 worker processes in total. Our suggested max number of worker in current system is 2, which is smaller than what this DataLoader is going to create. Please be aware that excessive worker creation might get DataLoader running slow or even freeze, lower the worker number to avoid potential slowness/freeze if necessary.\n",
            "  warnings.warn(\n",
            "[I 2024-12-11 11:40:58,025] A new study created in memory with name: no-name-9e4caaf7-5ae1-4b91-b7f7-214fc95618f4\n"
          ]
        },
        {
          "metadata": {
            "tags": null
          },
          "name": "stdout",
          "output_type": "stream",
          "text": [
            "Classes: ['Glaucous_Winged_Gull', 'Slaty_Backed_Gull']\n"
          ]
        },
        {
          "metadata": {
            "tags": null
          },
          "name": "stderr",
          "output_type": "stream",
          "text": [
            "Downloading: \"https://download.pytorch.org/models/vgg16-397923af.pth\" to /root/.cache/torch/hub/checkpoints/vgg16-397923af.pth\n",
            "100%|██████████| 528M/528M [00:06<00:00, 83.1MB/s]\n",
            "/usr/local/lib/python3.10/dist-packages/torch/optim/lr_scheduler.py:62: UserWarning: The verbose parameter is deprecated. Please use get_last_lr() to access the learning rate.\n",
            "  warnings.warn(\n"
          ]
        },
        {
          "output_type": "stream",
          "name": "stdout",
          "text": [
            "Trial 0, Epoch 1/20, Train Loss: 0.4223\n",
            "Validation Loss: 0.2314, Validation Accuracy: 89.61%\n",
            "Trial 0, Epoch 2/20, Train Loss: 0.1645\n",
            "Validation Loss: 0.2993, Validation Accuracy: 86.36%\n",
            "Trial 0, Epoch 3/20, Train Loss: 0.1054\n",
            "Validation Loss: 0.1051, Validation Accuracy: 95.45%\n",
            "Trial 0, Epoch 4/20, Train Loss: 0.0500\n",
            "Validation Loss: 0.2217, Validation Accuracy: 95.45%\n",
            "Trial 0, Epoch 5/20, Train Loss: 0.0576\n",
            "Validation Loss: 0.2962, Validation Accuracy: 94.81%\n",
            "Trial 0, Epoch 6/20, Train Loss: 0.0401\n",
            "Validation Loss: 0.1410, Validation Accuracy: 95.45%\n",
            "Trial 0, Epoch 7/20, Train Loss: 0.0114\n",
            "Validation Loss: 0.0644, Validation Accuracy: 98.05%\n",
            "Trial 0, Epoch 8/20, Train Loss: 0.0025\n",
            "Validation Loss: 0.1616, Validation Accuracy: 98.05%\n",
            "Trial 0, Epoch 9/20, Train Loss: 0.0428\n"
          ]
        }
      ],
      "source": [
        "# Import necessary libraries\n",
        "import os\n",
        "import torch\n",
        "import torch.nn as nn\n",
        "import torch.optim as optim\n",
        "from torchvision import datasets, transforms, models\n",
        "from torch.utils.data import DataLoader, random_split\n",
        "import numpy as np\n",
        "import random\n",
        "import matplotlib.pyplot as plt\n",
        "from datetime import datetime\n",
        "from tqdm import tqdm  # For progress bars\n",
        "\n",
        "# Install Optuna if not already installed\n",
        "# Uncomment the following line if Optuna is not installed\n",
        "# !pip install optuna\n",
        "\n",
        "import optuna\n",
        "from optuna.trial import TrialState\n",
        "import joblib  # For saving the Optuna study\n",
        "\n",
        "# Set random seeds for reproducibility\n",
        "def set_seed(seed=42):\n",
        "    torch.manual_seed(seed)\n",
        "    np.random.seed(seed)\n",
        "    random.seed(seed)\n",
        "    if torch.cuda.is_available():\n",
        "        torch.cuda.manual_seed_all(seed)\n",
        "\n",
        "set_seed(42)\n",
        "\n",
        "# Define the device for computation\n",
        "device = torch.device('cuda' if torch.cuda.is_available() else 'cpu')\n",
        "print(f\"Using device: {device}\")\n",
        "\n",
        "# Mount Google Drive to save and load the model (if using Google Colab)\n",
        "from google.colab import drive\n",
        "drive.mount('/content/drive')\n",
        "\n",
        "# Define the folder to save model checkpoints\n",
        "date_str = datetime.now().strftime('%Y%m%d')\n",
        "checkpoint_folder = f'/content/drive/My Drive/FYP/VGGModel/HQ2ltst_{date_str}/'\n",
        "os.makedirs(checkpoint_folder, exist_ok=True)\n",
        "\n",
        "# Data Augmentation for Training Set\n",
        "transform_train = transforms.Compose([\n",
        "    transforms.Resize((224, 224)),  # VGG expects 224x224 input size\n",
        "    transforms.RandomHorizontalFlip(),\n",
        "    transforms.RandomRotation(15),\n",
        "    transforms.ColorJitter(brightness=0.2, contrast=0.2, saturation=0.2),\n",
        "    transforms.ToTensor(),\n",
        "    transforms.Normalize([0.485, 0.456, 0.406], [0.229, 0.224, 0.225]),  # ImageNet normalization\n",
        "])\n",
        "\n",
        "# Simple resizing for validation and test sets\n",
        "transform_val_test = transforms.Compose([\n",
        "    transforms.Resize((224, 224)),\n",
        "    transforms.ToTensor(),\n",
        "    transforms.Normalize([0.485, 0.456, 0.406], [0.229, 0.224, 0.225]),\n",
        "])\n",
        "\n",
        "# Load datasets\n",
        "data_path = '/content/drive/My Drive/FYP/Dataset/HQ2/train'\n",
        "test_data_path = '/content/drive/My Drive/FYP/Dataset/HQ2/test'\n",
        "train_dataset = datasets.ImageFolder(data_path, transform=transform_train)\n",
        "test_dataset = datasets.ImageFolder(test_data_path, transform=transform_val_test)\n",
        "\n",
        "# Split the dataset into 80% training and 20% validation\n",
        "train_size = int(0.8 * len(train_dataset))\n",
        "val_size = len(train_dataset) - train_size\n",
        "train_subset, val_subset = random_split(train_dataset, [train_size, val_size],\n",
        "                                       generator=torch.Generator().manual_seed(42))  # Ensure reproducibility\n",
        "\n",
        "# Create data loaders\n",
        "batch_size = 32\n",
        "num_workers = 4  # Adjust based on your system\n",
        "\n",
        "train_loader = DataLoader(train_subset, batch_size=batch_size, shuffle=True, num_workers=num_workers)\n",
        "val_loader = DataLoader(val_subset, batch_size=batch_size, shuffle=False, num_workers=num_workers)\n",
        "test_loader = DataLoader(test_dataset, batch_size=batch_size, shuffle=False, num_workers=num_workers)\n",
        "\n",
        "# Define class names as per dataset\n",
        "class_names = train_dataset.classes  # Automatically get class names from ImageFolder\n",
        "num_classes = len(class_names)\n",
        "print(f\"Classes: {class_names}\")\n",
        "\n",
        "# Use Pre-trained VGG-16 model and modify it for binary classification\n",
        "class VGG16Modified(nn.Module):\n",
        "    def __init__(self, num_classes=2):\n",
        "        super(VGG16Modified, self).__init__()\n",
        "        self.vgg = models.vgg16(weights=models.VGG16_Weights.IMAGENET1K_V1)\n",
        "        # Replace the classifier with a custom binary classification layer\n",
        "        num_ftrs = self.vgg.classifier[6].in_features\n",
        "        self.vgg.classifier[6] = nn.Sequential(\n",
        "            nn.Dropout(0.5),\n",
        "            nn.Linear(num_ftrs, num_classes)\n",
        "        )\n",
        "\n",
        "    def forward(self, x):\n",
        "        return self.vgg(x)\n",
        "\n",
        "# Define the validation loop returning accuracy and loss\n",
        "def validate(model, loader, criterion):\n",
        "    model.eval()\n",
        "    correct = 0\n",
        "    total = 0\n",
        "    val_loss = 0.0\n",
        "\n",
        "    with torch.no_grad():\n",
        "        for inputs, labels in loader:\n",
        "            inputs, labels = inputs.to(device), labels.to(device)\n",
        "            outputs = model(inputs)\n",
        "            loss = criterion(outputs, labels)\n",
        "            val_loss += loss.item()\n",
        "\n",
        "            _, predicted = torch.max(outputs.data, 1)\n",
        "            total += labels.size(0)\n",
        "            correct += (predicted == labels).sum().item()\n",
        "\n",
        "    accuracy = 100 * correct / total\n",
        "    average_loss = val_loss / len(loader)\n",
        "    print(f'Validation Loss: {average_loss:.4f}, Validation Accuracy: {accuracy:.2f}%')\n",
        "    return accuracy, average_loss\n",
        "\n",
        "# Define the objective function for Optuna\n",
        "def objective(trial):\n",
        "    # Suggest hyperparameters using updated Optuna methods\n",
        "    learning_rate = trial.suggest_float('learning_rate', 1e-5, 1e-3, log=True)\n",
        "    weight_decay = trial.suggest_float('weight_decay', 1e-6, 1e-3, log=True)\n",
        "    optimizer_name = trial.suggest_categorical('optimizer', ['Adam', 'AdamW', 'SGD'])\n",
        "\n",
        "    # Suggest momentum only if optimizer is SGD\n",
        "    if optimizer_name == 'SGD':\n",
        "        momentum = trial.suggest_float('momentum', 0.5, 0.99)\n",
        "    else:\n",
        "        momentum = 0.0  # Default value for optimizers that do not use momentum\n",
        "\n",
        "    # Initialize the model\n",
        "    model = VGG16Modified(num_classes=num_classes).to(device)\n",
        "\n",
        "    # Define loss function\n",
        "    criterion = nn.CrossEntropyLoss()\n",
        "\n",
        "    # Define optimizer\n",
        "    if optimizer_name == 'Adam':\n",
        "        optimizer = optim.Adam(model.parameters(), lr=learning_rate, weight_decay=weight_decay)\n",
        "    elif optimizer_name == 'AdamW':\n",
        "        optimizer = optim.AdamW(model.parameters(), lr=learning_rate, weight_decay=weight_decay)\n",
        "    else:  # SGD\n",
        "        optimizer = optim.SGD(model.parameters(), lr=learning_rate, momentum=momentum, weight_decay=weight_decay)\n",
        "\n",
        "    # Define scheduler\n",
        "    scheduler = optim.lr_scheduler.ReduceLROnPlateau(optimizer, mode='max', factor=0.1, patience=5, verbose=False)\n",
        "\n",
        "    # Training parameters\n",
        "    epochs = 20\n",
        "    best_val_acc = 0.0\n",
        "\n",
        "    for epoch in range(epochs):\n",
        "        model.train()\n",
        "        running_loss = 0.0\n",
        "\n",
        "        for inputs, labels in train_loader:\n",
        "            inputs, labels = inputs.to(device), labels.to(device)\n",
        "            optimizer.zero_grad()\n",
        "\n",
        "            outputs = model(inputs)\n",
        "            loss = criterion(outputs, labels)\n",
        "            loss.backward()\n",
        "            torch.nn.utils.clip_grad_norm_(model.parameters(), max_norm=2.0)  # Gradient clipping\n",
        "            optimizer.step()\n",
        "\n",
        "            running_loss += loss.item()\n",
        "\n",
        "        average_train_loss = running_loss / len(train_loader)\n",
        "        print(f\"Trial {trial.number}, Epoch {epoch+1}/{epochs}, Train Loss: {average_train_loss:.4f}\")\n",
        "\n",
        "        # Validate the model\n",
        "        val_acc, val_loss = validate(model, val_loader, criterion)\n",
        "\n",
        "        # Update the scheduler\n",
        "        scheduler.step(val_acc)\n",
        "\n",
        "        # Report intermediate objective value\n",
        "        trial.report(val_acc, epoch)\n",
        "\n",
        "        # Handle pruning based on the intermediate value\n",
        "        if trial.should_prune():\n",
        "            raise optuna.exceptions.TrialPruned()\n",
        "\n",
        "        # Save the best validation accuracy for this trial\n",
        "        if val_acc > best_val_acc:\n",
        "            best_val_acc = val_acc\n",
        "\n",
        "    return best_val_acc\n",
        "\n",
        "# Create the Optuna study\n",
        "study = optuna.create_study(direction='maximize', sampler=optuna.samplers.TPESampler(seed=42))\n",
        "study.optimize(objective, n_trials=20, timeout=None)\n",
        "\n",
        "# Print study statistics\n",
        "print(\"Number of finished trials: \", len(study.trials))\n",
        "print(\"Best trial:\")\n",
        "trial = study.best_trial\n",
        "\n",
        "print(f\"  Validation Accuracy: {trial.value:.2f}%\")\n",
        "print(\"  Best hyperparameters: \")\n",
        "for key, value in trial.params.items():\n",
        "    print(f\"    {key}: {value}\")\n",
        "\n",
        "# Save the Optuna study\n",
        "study_dir = os.path.join(checkpoint_folder, 'optuna_study')\n",
        "os.makedirs(study_dir, exist_ok=True)\n",
        "joblib.dump(study, os.path.join(study_dir, 'study.pkl'))\n",
        "print(f\"Optuna study saved at {study_dir}\")\n",
        "\n",
        "# Function to plot the optimization history\n",
        "def plot_optimization_history(study):\n",
        "    try:\n",
        "        import optuna.visualization as vis\n",
        "        fig = vis.plot_optimization_history(study)\n",
        "        fig.show()\n",
        "    except ImportError:\n",
        "        print(\"Optuna visualization module is not installed. Please install it to view plots.\")\n",
        "\n",
        "# Function to plot the parameter importances\n",
        "def plot_param_importances(study):\n",
        "    try:\n",
        "        import optuna.visualization as vis\n",
        "        fig = vis.plot_param_importances(study)\n",
        "        fig.show()\n",
        "    except ImportError:\n",
        "        print(\"Optuna visualization module is not installed. Please install it to view plots.\")\n",
        "\n",
        "# Plot optimization history\n",
        "plot_optimization_history(study)\n",
        "\n",
        "# Plot parameter importances\n",
        "plot_param_importances(study)\n",
        "\n",
        "# Retrain the model with the best hyperparameters\n",
        "def train_with_best_params(best_params):\n",
        "    learning_rate = best_params['learning_rate']\n",
        "    weight_decay = best_params['weight_decay']\n",
        "    optimizer_name = best_params['optimizer']\n",
        "\n",
        "    # Retrieve momentum if optimizer is SGD\n",
        "    if optimizer_name == 'SGD':\n",
        "        momentum = best_params.get('momentum', 0.9)\n",
        "    else:\n",
        "        momentum = 0.0  # Default value for optimizers that do not use momentum\n",
        "\n",
        "    # Initialize the model\n",
        "    model = VGG16Modified(num_classes=num_classes).to(device)\n",
        "\n",
        "    # Define loss function\n",
        "    criterion = nn.CrossEntropyLoss()\n",
        "\n",
        "    # Define optimizer\n",
        "    if optimizer_name == 'Adam':\n",
        "        optimizer = optim.Adam(model.parameters(), lr=learning_rate, weight_decay=weight_decay)\n",
        "    elif optimizer_name == 'AdamW':\n",
        "        optimizer = optim.AdamW(model.parameters(), lr=learning_rate, weight_decay=weight_decay)\n",
        "    else:  # SGD\n",
        "        optimizer = optim.SGD(model.parameters(), lr=learning_rate, momentum=momentum, weight_decay=weight_decay)\n",
        "\n",
        "    # Define scheduler\n",
        "    scheduler = optim.lr_scheduler.ReduceLROnPlateau(optimizer, mode='max', factor=0.1, patience=5, verbose=True)\n",
        "\n",
        "    # Training parameters\n",
        "    epochs = 20\n",
        "    best_val_acc = 0.0\n",
        "    best_model_path = os.path.join(checkpoint_folder, f\"best_model_vgg_{date_str}.pth\")\n",
        "\n",
        "    train_losses = []\n",
        "    val_accuracies = []\n",
        "\n",
        "    for epoch in range(epochs):\n",
        "        model.train()\n",
        "        running_loss = 0.0\n",
        "\n",
        "        for inputs, labels in train_loader:\n",
        "            inputs, labels = inputs.to(device), labels.to(device)\n",
        "            optimizer.zero_grad()\n",
        "\n",
        "            outputs = model(inputs)\n",
        "            loss = criterion(outputs, labels)\n",
        "            loss.backward()\n",
        "            torch.nn.utils.clip_grad_norm_(model.parameters(), max_norm=2.0)  # Gradient clipping\n",
        "            optimizer.step()\n",
        "\n",
        "            running_loss += loss.item()\n",
        "\n",
        "        average_train_loss = running_loss / len(train_loader)\n",
        "        train_losses.append(average_train_loss)\n",
        "        print(f\"Epoch [{epoch+1}/{epochs}], Loss: {average_train_loss:.6f}\")\n",
        "\n",
        "        # Validate the model\n",
        "        val_acc, val_loss = validate(model, val_loader, criterion)\n",
        "        val_accuracies.append(val_acc)\n",
        "\n",
        "        # Update the scheduler\n",
        "        scheduler.step(val_acc)\n",
        "\n",
        "        # Save the best model\n",
        "        if val_acc > best_val_acc:\n",
        "            best_val_acc = val_acc\n",
        "            torch.save(model.state_dict(), best_model_path)\n",
        "            print(f\"New best model saved with accuracy: {best_val_acc:.2f}% at {best_model_path}\")\n",
        "\n",
        "    # Plot training and validation metrics\n",
        "    epochs_range = range(1, epochs + 1)\n",
        "\n",
        "    plt.figure(figsize=(12, 5))\n",
        "\n",
        "    # Plot Loss\n",
        "    plt.subplot(1, 2, 1)\n",
        "    plt.plot(epochs_range, train_losses, label='Training Loss')\n",
        "    plt.xlabel('Epochs')\n",
        "    plt.ylabel('Loss')\n",
        "    plt.title('Training Loss')\n",
        "    plt.legend()\n",
        "    plt.grid(True)\n",
        "\n",
        "    # Plot Accuracy\n",
        "    plt.subplot(1, 2, 2)\n",
        "    plt.plot(epochs_range, val_accuracies, label='Validation Accuracy')\n",
        "    plt.xlabel('Epochs')\n",
        "    plt.ylabel('Accuracy (%)')\n",
        "    plt.title('Validation Accuracy')\n",
        "    plt.legend()\n",
        "    plt.grid(True)\n",
        "\n",
        "    plt.tight_layout()\n",
        "    plt.show()\n",
        "\n",
        "    # Save the final model\n",
        "    final_model_path = os.path.join(checkpoint_folder, f\"final_model_vgg_{date_str}.pth\")\n",
        "    torch.save(model.state_dict(), final_model_path)\n",
        "    print(f\"Final model saved at {final_model_path}\")\n",
        "\n",
        "    return model\n",
        "\n",
        "# Retrieve the best hyperparameters\n",
        "best_params = study.best_trial.params\n",
        "print(\"Retraining the model with the best hyperparameters...\")\n",
        "trained_model = train_with_best_params(best_params)\n",
        "\n",
        "# Function to evaluate the model on the test set\n",
        "def test(model, loader, criterion):\n",
        "    model.eval()\n",
        "    test_loss = 0.0\n",
        "    correct = 0\n",
        "    total = 0\n",
        "\n",
        "    with torch.no_grad():\n",
        "        for inputs, labels in loader:\n",
        "            inputs, labels = inputs.to(device), labels.to(device)\n",
        "            outputs = model(inputs)\n",
        "            loss = criterion(outputs, labels)\n",
        "            test_loss += loss.item()\n",
        "\n",
        "            _, predicted = torch.max(outputs.data, 1)\n",
        "            total += labels.size(0)\n",
        "            correct += (predicted == labels).sum().item()\n",
        "\n",
        "    average_test_loss = test_loss / len(loader)\n",
        "    accuracy = 100 * correct / total\n",
        "    print(f'Test Loss: {average_test_loss:.6f}, Test Accuracy: {accuracy:.2f}%')\n",
        "    return average_test_loss, accuracy\n",
        "\n",
        "# Evaluate the trained model on the test set\n",
        "print(\"Evaluating the trained model on the test set...\")\n",
        "test_loss, test_accuracy = test(trained_model, test_loader, nn.CrossEntropyLoss())\n",
        "\n",
        "# Save the trained model\n",
        "final_model_path = os.path.join(checkpoint_folder, f\"trained_model_vgg_{date_str}.pth\")\n",
        "torch.save(trained_model.state_dict(), final_model_path)\n",
        "print(f\"Trained model saved at {final_model_path}\")\n"
      ]
    },
    {
      "cell_type": "code",
      "source": [
        "from google.colab import drive\n",
        "drive.mount('/content/drive')"
      ],
      "metadata": {
        "colab": {
          "base_uri": "https://localhost:8080/"
        },
        "id": "Le-nFCaGCty8",
        "outputId": "0953b494-38bf-46d4-b69d-e4d9c329f0c7"
      },
      "execution_count": null,
      "outputs": [
        {
          "output_type": "stream",
          "name": "stdout",
          "text": [
            "Drive already mounted at /content/drive; to attempt to forcibly remount, call drive.mount(\"/content/drive\", force_remount=True).\n"
          ]
        }
      ]
    },
    {
      "cell_type": "code",
      "source": [
        "# Import necessary libraries\n",
        "import os\n",
        "import torch\n",
        "import torch.nn as nn\n",
        "import torch.optim as optim\n",
        "from torchvision import datasets, transforms, models\n",
        "from torch.utils.data import DataLoader, random_split\n",
        "import numpy as np\n",
        "import random\n",
        "import matplotlib.pyplot as plt\n",
        "from datetime import datetime\n",
        "from tqdm import tqdm  # For progress bars\n",
        "\n",
        "# Install Optuna with visualization support\n",
        "# Uncomment if not already installed\n",
        "# !pip install optuna[visualization]\n",
        "\n",
        "import optuna\n",
        "from optuna.trial import TrialState\n",
        "import joblib  # For saving the Optuna study\n",
        "\n",
        "# Set random seeds for reproducibility\n",
        "def set_seed(seed=42):\n",
        "    torch.manual_seed(seed)\n",
        "    np.random.seed(seed)\n",
        "    random.seed(seed)\n",
        "    if torch.cuda.is_available():\n",
        "        torch.cuda.manual_seed_all(seed)\n",
        "\n",
        "set_seed(42)\n",
        "\n",
        "# Define the device for computation\n",
        "device = torch.device('cuda' if torch.cuda.is_available() else 'cpu')\n",
        "print(f\"Using device: {device}\")\n",
        "\n",
        "# Mount Google Drive to save and load the model (if using Google Colab)\n",
        "from google.colab import drive\n",
        "drive.mount('/content/drive')\n",
        "\n",
        "# Define the folder to save model checkpoints\n",
        "date_str = datetime.now().strftime('%Y%m%d')\n",
        "checkpoint_folder = f'/content/drive/My Drive/FYP/VGGModel/HQ2ltst_{date_str}/'\n",
        "os.makedirs(checkpoint_folder, exist_ok=True)\n",
        "\n",
        "# Data Augmentation for Training Set\n",
        "transform_train = transforms.Compose([\n",
        "    transforms.Resize((224, 224)),  # VGG expects 224x224 input size\n",
        "    transforms.RandomHorizontalFlip(),\n",
        "    transforms.RandomRotation(15),\n",
        "    transforms.ColorJitter(brightness=0.2, contrast=0.2, saturation=0.2),\n",
        "    transforms.ToTensor(),\n",
        "    transforms.Normalize([0.485, 0.456, 0.406], [0.229, 0.224, 0.225]),  # ImageNet normalization\n",
        "])\n",
        "\n",
        "# Simple resizing for validation and test sets\n",
        "transform_val_test = transforms.Compose([\n",
        "    transforms.Resize((224, 224)),\n",
        "    transforms.ToTensor(),\n",
        "    transforms.Normalize([0.485, 0.456, 0.406], [0.229, 0.224, 0.225]),\n",
        "])\n",
        "\n",
        "# Load datasets\n",
        "data_path = '/content/drive/My Drive/FYP/Dataset/HQ2/train'\n",
        "test_data_path = '/content/drive/My Drive/FYP/Dataset/HQ2/test'\n",
        "train_dataset = datasets.ImageFolder(data_path, transform=transform_train)\n",
        "test_dataset = datasets.ImageFolder(test_data_path, transform=transform_val_test)\n",
        "\n",
        "# Split the dataset into 80% training and 20% validation\n",
        "train_size = int(0.8 * len(train_dataset))\n",
        "val_size = len(train_dataset) - train_size\n",
        "train_subset, val_subset = random_split(train_dataset, [train_size, val_size],\n",
        "                                       generator=torch.Generator().manual_seed(42))  # Ensure reproducibility\n",
        "\n",
        "# Create data loaders\n",
        "batch_size = 16  # Reduced from 32 to 16\n",
        "num_workers = 2  # Adjusted based on system recommendation\n",
        "\n",
        "train_loader = DataLoader(train_subset, batch_size=batch_size, shuffle=True, num_workers=num_workers)\n",
        "val_loader = DataLoader(val_subset, batch_size=batch_size, shuffle=False, num_workers=num_workers)\n",
        "test_loader = DataLoader(test_dataset, batch_size=batch_size, shuffle=False, num_workers=num_workers)\n",
        "\n",
        "# Define class names as per dataset\n",
        "class_names = train_dataset.classes  # Automatically get class names from ImageFolder\n",
        "num_classes = len(class_names)\n",
        "print(f\"Classes: {class_names}\")\n",
        "\n",
        "# Use Pre-trained VGG-16 model and modify it for binary classification\n",
        "class VGG16Modified(nn.Module):\n",
        "    def __init__(self, num_classes=2, dropout_rate=0.5):\n",
        "        super(VGG16Modified, self).__init__()\n",
        "        self.vgg = models.vgg16(weights=models.VGG16_Weights.IMAGENET1K_V1)\n",
        "        # Replace the classifier with a custom binary classification layer\n",
        "        num_ftrs = self.vgg.classifier[6].in_features\n",
        "        self.vgg.classifier[6] = nn.Sequential(\n",
        "            nn.Dropout(dropout_rate),\n",
        "            nn.Linear(num_ftrs, num_classes)\n",
        "        )\n",
        "\n",
        "    def forward(self, x):\n",
        "        return self.vgg(x)\n",
        "\n",
        "# Define the validation loop returning accuracy and loss\n",
        "def validate(model, loader, criterion):\n",
        "    model.eval()\n",
        "    correct = 0\n",
        "    total = 0\n",
        "    val_loss = 0.0\n",
        "\n",
        "    with torch.no_grad():\n",
        "        for inputs, labels in loader:\n",
        "            inputs, labels = inputs.to(device), labels.to(device)\n",
        "            outputs = model(inputs)\n",
        "            loss = criterion(outputs, labels)\n",
        "            val_loss += loss.item()\n",
        "\n",
        "            _, predicted = torch.max(outputs.data, 1)\n",
        "            total += labels.size(0)\n",
        "            correct += (predicted == labels).sum().item()\n",
        "\n",
        "    accuracy = 100 * correct / total\n",
        "    average_loss = val_loss / len(loader)\n",
        "    print(f'Validation Loss: {average_loss:.4f}, Validation Accuracy: {accuracy:.2f}%')\n",
        "    return accuracy, average_loss\n",
        "\n",
        "# Define the objective function for Optuna\n",
        "def objective(trial):\n",
        "    # Suggest hyperparameters using updated Optuna methods\n",
        "    learning_rate = trial.suggest_float('learning_rate', 1e-5, 1e-3, log=True)\n",
        "    weight_decay = trial.suggest_float('weight_decay', 1e-6, 1e-3, log=True)\n",
        "    optimizer_name = trial.suggest_categorical('optimizer', ['Adam', 'AdamW', 'SGD'])\n",
        "\n",
        "    # Suggest dropout rate\n",
        "    dropout_rate = trial.suggest_float('dropout_rate', 0.3, 0.7)\n",
        "\n",
        "    # Suggest momentum only if optimizer is SGD\n",
        "    if optimizer_name == 'SGD':\n",
        "        momentum = trial.suggest_float('momentum', 0.5, 0.99)\n",
        "    else:\n",
        "        momentum = 0.0  # Not used for Adam or AdamW\n",
        "\n",
        "    # Initialize the model with the suggested dropout rate\n",
        "    model = VGG16Modified(num_classes=num_classes, dropout_rate=dropout_rate).to(device)\n",
        "\n",
        "    # Define loss function\n",
        "    criterion = nn.CrossEntropyLoss()\n",
        "\n",
        "    # Define optimizer\n",
        "    if optimizer_name == 'Adam':\n",
        "        optimizer = optim.Adam(model.parameters(), lr=learning_rate, weight_decay=weight_decay)\n",
        "    elif optimizer_name == 'AdamW':\n",
        "        optimizer = optim.AdamW(model.parameters(), lr=learning_rate, weight_decay=weight_decay)\n",
        "    else:  # SGD\n",
        "        optimizer = optim.SGD(model.parameters(), lr=learning_rate, momentum=momentum, weight_decay=weight_decay)\n",
        "\n",
        "    # Define scheduler\n",
        "    scheduler = optim.lr_scheduler.ReduceLROnPlateau(optimizer, mode='max', factor=0.1, patience=5)\n",
        "\n",
        "    # **Reduced number of epochs**\n",
        "    epochs = 5  # Changed from 20 to 5\n",
        "\n",
        "    best_val_acc = 0.0\n",
        "\n",
        "    for epoch in range(epochs):\n",
        "        print(f\"Starting Trial {trial.number}, Epoch {epoch+1}/{epochs}\")\n",
        "        model.train()\n",
        "        running_loss = 0.0\n",
        "\n",
        "        for batch_idx, (inputs, labels) in enumerate(tqdm(train_loader, desc=\"Training\", leave=False)):\n",
        "            inputs, labels = inputs.to(device), labels.to(device)\n",
        "            optimizer.zero_grad()\n",
        "\n",
        "            outputs = model(inputs)\n",
        "            loss = criterion(outputs, labels)\n",
        "            loss.backward()\n",
        "            torch.nn.utils.clip_grad_norm_(model.parameters(), max_norm=2.0)  # Gradient clipping\n",
        "            optimizer.step()\n",
        "\n",
        "            running_loss += loss.item()\n",
        "\n",
        "            if (batch_idx + 1) % 10 == 0:\n",
        "                print(f\"  Batch {batch_idx+1}/{len(train_loader)}, Loss: {loss.item():.4f}\")\n",
        "\n",
        "        average_train_loss = running_loss / len(train_loader)\n",
        "        print(f\"Trial {trial.number}, Epoch {epoch+1}/{epochs}, Average Train Loss: {average_train_loss:.4f}\")\n",
        "\n",
        "        # Validate the model\n",
        "        val_acc, val_loss = validate(model, val_loader, criterion)\n",
        "        print(f\"  Validation Accuracy: {val_acc:.2f}%, Validation Loss: {val_loss:.4f}\")\n",
        "\n",
        "        # Update the scheduler\n",
        "        scheduler.step(val_acc)\n",
        "\n",
        "        # Report intermediate objective value\n",
        "        trial.report(val_acc, epoch)\n",
        "\n",
        "        # Handle pruning based on the intermediate value\n",
        "        if trial.should_prune():\n",
        "            print(\"  Trial is pruned\")\n",
        "            raise optuna.exceptions.TrialPruned()\n",
        "\n",
        "        # Save the best validation accuracy for this trial\n",
        "        if val_acc > best_val_acc:\n",
        "            best_val_acc = val_acc\n",
        "            print(f\"  New best validation accuracy: {best_val_acc:.2f}%\")\n",
        "\n",
        "    return best_val_acc\n",
        "\n",
        "# Create the Optuna study\n",
        "study = optuna.create_study(direction='maximize', sampler=optuna.samplers.TPESampler(seed=42))\n",
        "study.optimize(objective, n_trials=10, timeout=None)  # Reduced from 20 to 10 trials for quicker testing\n",
        "\n",
        "# Print study statistics\n",
        "print(\"Number of finished trials: \", len(study.trials))\n",
        "print(\"Best trial:\")\n",
        "trial = study.best_trial\n",
        "\n",
        "print(f\"  Validation Accuracy: {trial.value:.2f}%\")\n",
        "print(\"  Best hyperparameters: \")\n",
        "for key, value in trial.params.items():\n",
        "    print(f\"    {key}: {value}\")\n",
        "\n",
        "# Save the Optuna study\n",
        "study_dir = os.path.join(checkpoint_folder, 'optuna_study')\n",
        "os.makedirs(study_dir, exist_ok=True)\n",
        "joblib.dump(study, os.path.join(study_dir, 'study.pkl'))\n",
        "print(f\"Optuna study saved at {study_dir}\")\n",
        "\n",
        "# Function to plot the optimization history\n",
        "def plot_optimization_history(study):\n",
        "    try:\n",
        "        import optuna.visualization as vis\n",
        "        fig = vis.plot_optimization_history(study)\n",
        "        fig.show()\n",
        "    except ImportError:\n",
        "        print(\"Optuna visualization module is not installed. Please install it to view plots.\")\n",
        "\n",
        "# Function to plot the parameter importances\n",
        "def plot_param_importances(study):\n",
        "    try:\n",
        "        import optuna.visualization as vis\n",
        "        fig = vis.plot_param_importances(study)\n",
        "        fig.show()\n",
        "    except ImportError:\n",
        "        print(\"Optuna visualization module is not installed. Please install it to view plots.\")\n",
        "\n",
        "# Plot optimization history\n",
        "plot_optimization_history(study)\n",
        "\n",
        "# Plot parameter importances\n",
        "plot_param_importances(study)\n",
        "\n",
        "# Retrain the model with the best hyperparameters\n",
        "def train_with_best_params(best_params):\n",
        "    learning_rate = best_params['learning_rate']\n",
        "    weight_decay = best_params['weight_decay']\n",
        "    optimizer_name = best_params['optimizer']\n",
        "    dropout_rate = best_params.get('dropout_rate', 0.5)\n",
        "\n",
        "    # Retrieve momentum if optimizer is SGD\n",
        "    if optimizer_name == 'SGD':\n",
        "        momentum = best_params.get('momentum', 0.9)\n",
        "    else:\n",
        "        momentum = 0.0  # Default value for optimizers that do not use momentum\n",
        "\n",
        "    # Initialize the model with the best dropout rate\n",
        "    model = VGG16Modified(num_classes=num_classes, dropout_rate=dropout_rate).to(device)\n",
        "\n",
        "    # Define loss function\n",
        "    criterion = nn.CrossEntropyLoss()\n",
        "\n",
        "    # Define optimizer\n",
        "    if optimizer_name == 'Adam':\n",
        "        optimizer = optim.Adam(model.parameters(), lr=learning_rate, weight_decay=weight_decay)\n",
        "    elif optimizer_name == 'AdamW':\n",
        "        optimizer = optim.AdamW(model.parameters(), lr=learning_rate, weight_decay=weight_decay)\n",
        "    else:  # SGD\n",
        "        optimizer = optim.SGD(model.parameters(), lr=learning_rate, momentum=momentum, weight_decay=weight_decay)\n",
        "\n",
        "    # Define scheduler\n",
        "    scheduler = optim.lr_scheduler.ReduceLROnPlateau(optimizer, mode='max', factor=0.1, patience=5, verbose=True)\n",
        "\n",
        "    # **Reduced number of epochs for retraining as well**\n",
        "    epochs = 20  # You can choose to keep this higher since it's the final training\n",
        "\n",
        "    best_val_acc = 0.0\n",
        "    best_model_path = os.path.join(checkpoint_folder, f\"best_model_vgg_{date_str}.pth\")\n",
        "\n",
        "    train_losses = []\n",
        "    val_accuracies = []\n",
        "\n",
        "    for epoch in range(epochs):\n",
        "        print(f\"Starting Epoch {epoch+1}/{epochs}\")\n",
        "        model.train()\n",
        "        running_loss = 0.0\n",
        "\n",
        "        for batch_idx, (inputs, labels) in enumerate(tqdm(train_loader, desc=\"Training\", leave=False)):\n",
        "            inputs, labels = inputs.to(device), labels.to(device)\n",
        "            optimizer.zero_grad()\n",
        "\n",
        "            outputs = model(inputs)\n",
        "            loss = criterion(outputs, labels)\n",
        "            loss.backward()\n",
        "            torch.nn.utils.clip_grad_norm_(model.parameters(), max_norm=2.0)  # Gradient clipping\n",
        "            optimizer.step()\n",
        "\n",
        "            running_loss += loss.item()\n",
        "\n",
        "            if (batch_idx + 1) % 10 == 0:\n",
        "                print(f\"  Batch {batch_idx+1}/{len(train_loader)}, Loss: {loss.item():.4f}\")\n",
        "\n",
        "        average_train_loss = running_loss / len(train_loader)\n",
        "        train_losses.append(average_train_loss)\n",
        "        print(f\"Epoch [{epoch+1}/{epochs}], Average Train Loss: {average_train_loss:.6f}\")\n",
        "\n",
        "        # Validate the model\n",
        "        val_acc, val_loss = validate(model, val_loader, criterion)\n",
        "        val_accuracies.append(val_acc)\n",
        "\n",
        "        # Update the scheduler\n",
        "        scheduler.step(val_acc)\n",
        "\n",
        "        # Save the best model\n",
        "        if val_acc > best_val_acc:\n",
        "            best_val_acc = val_acc\n",
        "            torch.save(model.state_dict(), best_model_path)\n",
        "            print(f\"  New best model saved with accuracy: {best_val_acc:.2f}% at {best_model_path}\")\n",
        "\n",
        "    # Plot training and validation metrics\n",
        "    epochs_range = range(1, epochs + 1)\n",
        "\n",
        "    plt.figure(figsize=(12, 5))\n",
        "\n",
        "    # Plot Loss\n",
        "    plt.subplot(1, 2, 1)\n",
        "    plt.plot(epochs_range, train_losses, label='Training Loss')\n",
        "    plt.xlabel('Epochs')\n",
        "    plt.ylabel('Loss')\n",
        "    plt.title('Training Loss')\n",
        "    plt.legend()\n",
        "    plt.grid(True)\n",
        "\n",
        "    # Plot Accuracy\n",
        "    plt.subplot(1, 2, 2)\n",
        "    plt.plot(epochs_range, val_accuracies, label='Validation Accuracy')\n",
        "    plt.xlabel('Epochs')\n",
        "    plt.ylabel('Accuracy (%)')\n",
        "    plt.title('Validation Accuracy')\n",
        "    plt.legend()\n",
        "    plt.grid(True)\n",
        "\n",
        "    plt.tight_layout()\n",
        "    plt.show()\n",
        "\n",
        "    # Save the final model\n",
        "    final_model_path = os.path.join(checkpoint_folder, f\"final_model_vgg_{date_str}.pth\")\n",
        "    torch.save(model.state_dict(), final_model_path)\n",
        "    print(f\"Final model saved at {final_model_path}\")\n",
        "\n",
        "    return model\n",
        "\n",
        "# Retrieve the best hyperparameters\n",
        "best_params = study.best_trial.params\n",
        "print(\"Retraining the model with the best hyperparameters...\")\n",
        "trained_model = train_with_best_params(best_params)\n",
        "\n",
        "# Function to evaluate the model on the test set\n",
        "def test(model, loader, criterion):\n",
        "    model.eval()\n",
        "    test_loss = 0.0\n",
        "    correct = 0\n",
        "    total = 0\n",
        "\n",
        "    with torch.no_grad():\n",
        "        for inputs, labels in loader:\n",
        "            inputs, labels = inputs.to(device), labels.to(device)\n",
        "            outputs = model(inputs)\n",
        "            loss = criterion(outputs, labels)\n",
        "            test_loss += loss.item()\n",
        "\n",
        "            _, predicted = torch.max(outputs.data, 1)\n",
        "            total += labels.size(0)\n",
        "            correct += (predicted == labels).sum().item()\n",
        "\n",
        "    average_test_loss = test_loss / len(loader)\n",
        "    accuracy = 100 * correct / total\n",
        "    print(f'Test Loss: {average_test_loss:.6f}, Test Accuracy: {accuracy:.2f}%')\n",
        "    return average_test_loss, accuracy\n",
        "\n",
        "# Evaluate the trained model on the test set\n",
        "print(\"Evaluating the trained model on the test set...\")\n",
        "test_loss, test_accuracy = test(trained_model, test_loader, nn.CrossEntropyLoss())\n",
        "\n",
        "# Save the trained model\n",
        "final_model_path = os.path.join(checkpoint_folder, f\"trained_model_vgg_{date_str}.pth\")\n",
        "torch.save(trained_model.state_dict(), final_model_path)\n",
        "print(f\"Trained model saved at {final_model_path}\")\n"
      ],
      "metadata": {
        "id": "hrO634VkmuA0",
        "colab": {
          "base_uri": "https://localhost:8080/"
        },
        "outputId": "245930a6-3f71-494a-a019-304de7c571f9"
      },
      "execution_count": null,
      "outputs": [
        {
          "metadata": {
            "tags": null
          },
          "name": "stdout",
          "output_type": "stream",
          "text": [
            "Using device: cuda\n",
            "Drive already mounted at /content/drive; to attempt to forcibly remount, call drive.mount(\"/content/drive\", force_remount=True).\n"
          ]
        },
        {
          "metadata": {
            "tags": null
          },
          "name": "stderr",
          "output_type": "stream",
          "text": [
            "[I 2024-12-11 17:00:12,332] A new study created in memory with name: no-name-87ef704a-814b-4888-b998-267d9897d272\n"
          ]
        },
        {
          "metadata": {
            "tags": null
          },
          "name": "stdout",
          "output_type": "stream",
          "text": [
            "Classes: ['Glaucous_Winged_Gull', 'Slaty_Backed_Gull']\n"
          ]
        },
        {
          "metadata": {
            "tags": null
          },
          "name": "stderr",
          "output_type": "stream",
          "text": [
            "Downloading: \"https://download.pytorch.org/models/vgg16-397923af.pth\" to /root/.cache/torch/hub/checkpoints/vgg16-397923af.pth\n",
            "100%|██████████| 528M/528M [00:07<00:00, 76.0MB/s]\n"
          ]
        },
        {
          "metadata": {
            "tags": null
          },
          "name": "stdout",
          "output_type": "stream",
          "text": [
            "Starting Trial 0, Epoch 1/5\n"
          ]
        },
        {
          "metadata": {
            "tags": null
          },
          "name": "stderr",
          "output_type": "stream",
          "text": [
            "Training:  26%|██▌       | 10/39 [01:39<02:05,  4.33s/it]"
          ]
        },
        {
          "metadata": {
            "tags": null
          },
          "name": "stdout",
          "output_type": "stream",
          "text": [
            "  Batch 10/39, Loss: 0.3333\n"
          ]
        },
        {
          "metadata": {
            "tags": null
          },
          "name": "stderr",
          "output_type": "stream",
          "text": [
            "Training:  51%|█████▏    | 20/39 [02:21<00:59,  3.14s/it]"
          ]
        },
        {
          "metadata": {
            "tags": null
          },
          "name": "stdout",
          "output_type": "stream",
          "text": [
            "  Batch 20/39, Loss: 0.4268\n"
          ]
        },
        {
          "metadata": {
            "tags": null
          },
          "name": "stderr",
          "output_type": "stream",
          "text": [
            "Training:  77%|███████▋  | 30/39 [03:03<00:31,  3.46s/it]"
          ]
        },
        {
          "metadata": {
            "tags": null
          },
          "name": "stdout",
          "output_type": "stream",
          "text": [
            "  Batch 30/39, Loss: 0.0354\n"
          ]
        },
        {
          "metadata": {
            "tags": null
          },
          "name": "stderr",
          "output_type": "stream",
          "text": [
            "                                                         "
          ]
        },
        {
          "metadata": {
            "tags": null
          },
          "name": "stdout",
          "output_type": "stream",
          "text": [
            "Trial 0, Epoch 1/5, Average Train Loss: 0.3644\n"
          ]
        },
        {
          "metadata": {
            "tags": null
          },
          "name": "stderr",
          "output_type": "stream",
          "text": [
            "\r"
          ]
        },
        {
          "metadata": {
            "tags": null
          },
          "name": "stdout",
          "output_type": "stream",
          "text": [
            "Validation Loss: 0.4124, Validation Accuracy: 88.31%\n",
            "  Validation Accuracy: 88.31%, Validation Loss: 0.4124\n",
            "  New best validation accuracy: 88.31%\n",
            "Starting Trial 0, Epoch 2/5\n"
          ]
        },
        {
          "metadata": {
            "tags": null
          },
          "name": "stderr",
          "output_type": "stream",
          "text": [
            "Training:  26%|██▌       | 10/39 [00:39<01:35,  3.28s/it]"
          ]
        },
        {
          "metadata": {
            "tags": null
          },
          "name": "stdout",
          "output_type": "stream",
          "text": [
            "  Batch 10/39, Loss: 0.1521\n"
          ]
        },
        {
          "metadata": {
            "tags": null
          },
          "name": "stderr",
          "output_type": "stream",
          "text": [
            "Training:  51%|█████▏    | 20/39 [01:19<01:06,  3.51s/it]"
          ]
        },
        {
          "metadata": {
            "tags": null
          },
          "name": "stdout",
          "output_type": "stream",
          "text": [
            "  Batch 20/39, Loss: 0.0649\n"
          ]
        },
        {
          "metadata": {
            "tags": null
          },
          "name": "stderr",
          "output_type": "stream",
          "text": [
            "Training:  77%|███████▋  | 30/39 [02:00<00:32,  3.64s/it]"
          ]
        },
        {
          "metadata": {
            "tags": null
          },
          "name": "stdout",
          "output_type": "stream",
          "text": [
            "  Batch 30/39, Loss: 0.0004\n"
          ]
        },
        {
          "metadata": {
            "tags": null
          },
          "name": "stderr",
          "output_type": "stream",
          "text": [
            "                                                         "
          ]
        },
        {
          "metadata": {
            "tags": null
          },
          "name": "stdout",
          "output_type": "stream",
          "text": [
            "Trial 0, Epoch 2/5, Average Train Loss: 0.1745\n"
          ]
        },
        {
          "metadata": {
            "tags": null
          },
          "name": "stderr",
          "output_type": "stream",
          "text": [
            "\r"
          ]
        },
        {
          "metadata": {
            "tags": null
          },
          "name": "stdout",
          "output_type": "stream",
          "text": [
            "Validation Loss: 0.1141, Validation Accuracy: 94.16%\n",
            "  Validation Accuracy: 94.16%, Validation Loss: 0.1141\n",
            "  New best validation accuracy: 94.16%\n",
            "Starting Trial 0, Epoch 3/5\n"
          ]
        },
        {
          "metadata": {
            "tags": null
          },
          "name": "stderr",
          "output_type": "stream",
          "text": [
            "Training:  26%|██▌       | 10/39 [00:42<01:37,  3.37s/it]"
          ]
        },
        {
          "metadata": {
            "tags": null
          },
          "name": "stdout",
          "output_type": "stream",
          "text": [
            "  Batch 10/39, Loss: 0.0005\n"
          ]
        },
        {
          "metadata": {
            "tags": null
          },
          "name": "stderr",
          "output_type": "stream",
          "text": [
            "Training:  51%|█████▏    | 20/39 [01:20<01:00,  3.17s/it]"
          ]
        },
        {
          "metadata": {
            "tags": null
          },
          "name": "stdout",
          "output_type": "stream",
          "text": [
            "  Batch 20/39, Loss: 0.0387\n"
          ]
        },
        {
          "metadata": {
            "tags": null
          },
          "name": "stderr",
          "output_type": "stream",
          "text": [
            "Training:  77%|███████▋  | 30/39 [01:59<00:28,  3.18s/it]"
          ]
        },
        {
          "metadata": {
            "tags": null
          },
          "name": "stdout",
          "output_type": "stream",
          "text": [
            "  Batch 30/39, Loss: 0.0454\n"
          ]
        },
        {
          "metadata": {
            "tags": null
          },
          "name": "stderr",
          "output_type": "stream",
          "text": [
            "                                                         "
          ]
        },
        {
          "metadata": {
            "tags": null
          },
          "name": "stdout",
          "output_type": "stream",
          "text": [
            "Trial 0, Epoch 3/5, Average Train Loss: 0.1283\n"
          ]
        },
        {
          "metadata": {
            "tags": null
          },
          "name": "stderr",
          "output_type": "stream",
          "text": [
            "\r"
          ]
        },
        {
          "metadata": {
            "tags": null
          },
          "name": "stdout",
          "output_type": "stream",
          "text": [
            "Validation Loss: 0.0626, Validation Accuracy: 96.75%\n",
            "  Validation Accuracy: 96.75%, Validation Loss: 0.0626\n",
            "  New best validation accuracy: 96.75%\n",
            "Starting Trial 0, Epoch 4/5\n"
          ]
        },
        {
          "metadata": {
            "tags": null
          },
          "name": "stderr",
          "output_type": "stream",
          "text": [
            "Training:  26%|██▌       | 10/39 [00:40<01:42,  3.52s/it]"
          ]
        },
        {
          "metadata": {
            "tags": null
          },
          "name": "stdout",
          "output_type": "stream",
          "text": [
            "  Batch 10/39, Loss: 0.0003\n"
          ]
        },
        {
          "metadata": {
            "tags": null
          },
          "name": "stderr",
          "output_type": "stream",
          "text": [
            "Training:  51%|█████▏    | 20/39 [01:21<01:08,  3.59s/it]"
          ]
        },
        {
          "metadata": {
            "tags": null
          },
          "name": "stdout",
          "output_type": "stream",
          "text": [
            "  Batch 20/39, Loss: 0.0005\n"
          ]
        },
        {
          "metadata": {
            "tags": null
          },
          "name": "stderr",
          "output_type": "stream",
          "text": [
            "Training:  77%|███████▋  | 30/39 [01:56<00:25,  2.89s/it]"
          ]
        },
        {
          "metadata": {
            "tags": null
          },
          "name": "stdout",
          "output_type": "stream",
          "text": [
            "  Batch 30/39, Loss: 0.0002\n"
          ]
        },
        {
          "metadata": {
            "tags": null
          },
          "name": "stderr",
          "output_type": "stream",
          "text": [
            "                                                         "
          ]
        },
        {
          "metadata": {
            "tags": null
          },
          "name": "stdout",
          "output_type": "stream",
          "text": [
            "Trial 0, Epoch 4/5, Average Train Loss: 0.0534\n"
          ]
        },
        {
          "metadata": {
            "tags": null
          },
          "name": "stderr",
          "output_type": "stream",
          "text": [
            "\r"
          ]
        },
        {
          "metadata": {
            "tags": null
          },
          "name": "stdout",
          "output_type": "stream",
          "text": [
            "Validation Loss: 0.0314, Validation Accuracy: 98.70%\n",
            "  Validation Accuracy: 98.70%, Validation Loss: 0.0314\n",
            "  New best validation accuracy: 98.70%\n",
            "Starting Trial 0, Epoch 5/5\n"
          ]
        },
        {
          "metadata": {
            "tags": null
          },
          "name": "stderr",
          "output_type": "stream",
          "text": [
            "Training:  26%|██▌       | 10/39 [00:41<01:37,  3.36s/it]"
          ]
        },
        {
          "metadata": {
            "tags": null
          },
          "name": "stdout",
          "output_type": "stream",
          "text": [
            "  Batch 10/39, Loss: 0.0073\n"
          ]
        },
        {
          "metadata": {
            "tags": null
          },
          "name": "stderr",
          "output_type": "stream",
          "text": [
            "Training:  51%|█████▏    | 20/39 [01:20<00:59,  3.12s/it]"
          ]
        },
        {
          "metadata": {
            "tags": null
          },
          "name": "stdout",
          "output_type": "stream",
          "text": [
            "  Batch 20/39, Loss: 0.0856\n"
          ]
        },
        {
          "metadata": {
            "tags": null
          },
          "name": "stderr",
          "output_type": "stream",
          "text": [
            "Training:  77%|███████▋  | 30/39 [01:58<00:28,  3.12s/it]"
          ]
        },
        {
          "metadata": {
            "tags": null
          },
          "name": "stdout",
          "output_type": "stream",
          "text": [
            "  Batch 30/39, Loss: 0.0011\n"
          ]
        },
        {
          "metadata": {
            "tags": null
          },
          "name": "stderr",
          "output_type": "stream",
          "text": [
            "                                                         "
          ]
        },
        {
          "metadata": {
            "tags": null
          },
          "name": "stdout",
          "output_type": "stream",
          "text": [
            "Trial 0, Epoch 5/5, Average Train Loss: 0.0428\n"
          ]
        },
        {
          "metadata": {
            "tags": null
          },
          "name": "stderr",
          "output_type": "stream",
          "text": [
            "\r[I 2024-12-11 17:17:12,026] Trial 0 finished with value: 98.7012987012987 and parameters: {'learning_rate': 5.6115164153345e-05, 'weight_decay': 0.0007114476009343421, 'optimizer': 'Adam', 'dropout_rate': 0.362397808134481}. Best is trial 0 with value: 98.7012987012987.\n"
          ]
        },
        {
          "metadata": {
            "tags": null
          },
          "name": "stdout",
          "output_type": "stream",
          "text": [
            "Validation Loss: 0.3684, Validation Accuracy: 91.56%\n",
            "  Validation Accuracy: 91.56%, Validation Loss: 0.3684\n",
            "Starting Trial 1, Epoch 1/5\n"
          ]
        },
        {
          "metadata": {
            "tags": null
          },
          "name": "stderr",
          "output_type": "stream",
          "text": [
            "Training:  26%|██▌       | 10/39 [00:37<01:26,  2.97s/it]"
          ]
        },
        {
          "metadata": {
            "tags": null
          },
          "name": "stdout",
          "output_type": "stream",
          "text": [
            "  Batch 10/39, Loss: 0.4327\n"
          ]
        },
        {
          "metadata": {
            "tags": null
          },
          "name": "stderr",
          "output_type": "stream",
          "text": [
            "Training:  51%|█████▏    | 20/39 [01:16<01:11,  3.78s/it]"
          ]
        },
        {
          "metadata": {
            "tags": null
          },
          "name": "stdout",
          "output_type": "stream",
          "text": [
            "  Batch 20/39, Loss: 0.4228\n"
          ]
        },
        {
          "metadata": {
            "tags": null
          },
          "name": "stderr",
          "output_type": "stream",
          "text": [
            "Training:  77%|███████▋  | 30/39 [01:56<00:35,  3.95s/it]"
          ]
        },
        {
          "metadata": {
            "tags": null
          },
          "name": "stdout",
          "output_type": "stream",
          "text": [
            "  Batch 30/39, Loss: 0.4268\n"
          ]
        },
        {
          "metadata": {
            "tags": null
          },
          "name": "stderr",
          "output_type": "stream",
          "text": [
            "                                                         "
          ]
        },
        {
          "metadata": {
            "tags": null
          },
          "name": "stdout",
          "output_type": "stream",
          "text": [
            "Trial 1, Epoch 1/5, Average Train Loss: 0.4753\n"
          ]
        },
        {
          "metadata": {
            "tags": null
          },
          "name": "stderr",
          "output_type": "stream",
          "text": [
            "\r"
          ]
        },
        {
          "metadata": {
            "tags": null
          },
          "name": "stdout",
          "output_type": "stream",
          "text": [
            "Validation Loss: 0.3970, Validation Accuracy: 83.77%\n",
            "  Validation Accuracy: 83.77%, Validation Loss: 0.3970\n",
            "  New best validation accuracy: 83.77%\n",
            "Starting Trial 1, Epoch 2/5\n"
          ]
        },
        {
          "metadata": {
            "tags": null
          },
          "name": "stderr",
          "output_type": "stream",
          "text": [
            "Training:  26%|██▌       | 10/39 [00:40<01:53,  3.91s/it]"
          ]
        },
        {
          "metadata": {
            "tags": null
          },
          "name": "stdout",
          "output_type": "stream",
          "text": [
            "  Batch 10/39, Loss: 0.3175\n"
          ]
        },
        {
          "metadata": {
            "tags": null
          },
          "name": "stderr",
          "output_type": "stream",
          "text": [
            "Training:  51%|█████▏    | 20/39 [01:17<01:07,  3.55s/it]"
          ]
        },
        {
          "metadata": {
            "tags": null
          },
          "name": "stdout",
          "output_type": "stream",
          "text": [
            "  Batch 20/39, Loss: 0.2913\n"
          ]
        },
        {
          "metadata": {
            "tags": null
          },
          "name": "stderr",
          "output_type": "stream",
          "text": [
            "Training:  77%|███████▋  | 30/39 [01:58<00:36,  4.07s/it]"
          ]
        },
        {
          "metadata": {
            "tags": null
          },
          "name": "stdout",
          "output_type": "stream",
          "text": [
            "  Batch 30/39, Loss: 0.1672\n"
          ]
        },
        {
          "metadata": {
            "tags": null
          },
          "name": "stderr",
          "output_type": "stream",
          "text": [
            "                                                         "
          ]
        },
        {
          "metadata": {
            "tags": null
          },
          "name": "stdout",
          "output_type": "stream",
          "text": [
            "Trial 1, Epoch 2/5, Average Train Loss: 0.3147\n"
          ]
        },
        {
          "metadata": {
            "tags": null
          },
          "name": "stderr",
          "output_type": "stream",
          "text": [
            "\r"
          ]
        },
        {
          "metadata": {
            "tags": null
          },
          "name": "stdout",
          "output_type": "stream",
          "text": [
            "Validation Loss: 0.2091, Validation Accuracy: 90.91%\n",
            "  Validation Accuracy: 90.91%, Validation Loss: 0.2091\n",
            "  New best validation accuracy: 90.91%\n",
            "Starting Trial 1, Epoch 3/5\n"
          ]
        },
        {
          "metadata": {
            "tags": null
          },
          "name": "stderr",
          "output_type": "stream",
          "text": [
            "Training:  26%|██▌       | 10/39 [00:40<01:47,  3.70s/it]"
          ]
        },
        {
          "metadata": {
            "tags": null
          },
          "name": "stdout",
          "output_type": "stream",
          "text": [
            "  Batch 10/39, Loss: 0.3572\n"
          ]
        },
        {
          "metadata": {
            "tags": null
          },
          "name": "stderr",
          "output_type": "stream",
          "text": [
            "Training:  51%|█████▏    | 20/39 [01:19<01:09,  3.68s/it]"
          ]
        },
        {
          "metadata": {
            "tags": null
          },
          "name": "stdout",
          "output_type": "stream",
          "text": [
            "  Batch 20/39, Loss: 0.0285\n"
          ]
        },
        {
          "metadata": {
            "tags": null
          },
          "name": "stderr",
          "output_type": "stream",
          "text": [
            "Training:  77%|███████▋  | 30/39 [01:57<00:33,  3.71s/it]"
          ]
        },
        {
          "metadata": {
            "tags": null
          },
          "name": "stdout",
          "output_type": "stream",
          "text": [
            "  Batch 30/39, Loss: 0.1553\n"
          ]
        },
        {
          "metadata": {
            "tags": null
          },
          "name": "stderr",
          "output_type": "stream",
          "text": [
            "                                                         "
          ]
        },
        {
          "metadata": {
            "tags": null
          },
          "name": "stdout",
          "output_type": "stream",
          "text": [
            "Trial 1, Epoch 3/5, Average Train Loss: 0.1810\n"
          ]
        },
        {
          "metadata": {
            "tags": null
          },
          "name": "stderr",
          "output_type": "stream",
          "text": [
            "\r"
          ]
        },
        {
          "metadata": {
            "tags": null
          },
          "name": "stdout",
          "output_type": "stream",
          "text": [
            "Validation Loss: 0.1612, Validation Accuracy: 94.81%\n",
            "  Validation Accuracy: 94.81%, Validation Loss: 0.1612\n",
            "  New best validation accuracy: 94.81%\n",
            "Starting Trial 1, Epoch 4/5\n"
          ]
        },
        {
          "metadata": {
            "tags": null
          },
          "name": "stderr",
          "output_type": "stream",
          "text": [
            "Training:  26%|██▌       | 10/39 [00:41<01:40,  3.45s/it]"
          ]
        },
        {
          "metadata": {
            "tags": null
          },
          "name": "stdout",
          "output_type": "stream",
          "text": [
            "  Batch 10/39, Loss: 0.1516\n"
          ]
        },
        {
          "metadata": {
            "tags": null
          },
          "name": "stderr",
          "output_type": "stream",
          "text": [
            "Training:  51%|█████▏    | 20/39 [01:23<01:10,  3.74s/it]"
          ]
        },
        {
          "metadata": {
            "tags": null
          },
          "name": "stdout",
          "output_type": "stream",
          "text": [
            "  Batch 20/39, Loss: 0.1122\n"
          ]
        },
        {
          "metadata": {
            "tags": null
          },
          "name": "stderr",
          "output_type": "stream",
          "text": [
            "Training:  77%|███████▋  | 30/39 [02:08<00:34,  3.79s/it]"
          ]
        },
        {
          "metadata": {
            "tags": null
          },
          "name": "stdout",
          "output_type": "stream",
          "text": [
            "  Batch 30/39, Loss: 0.0459\n"
          ]
        },
        {
          "metadata": {
            "tags": null
          },
          "name": "stderr",
          "output_type": "stream",
          "text": [
            "                                                         "
          ]
        },
        {
          "metadata": {
            "tags": null
          },
          "name": "stdout",
          "output_type": "stream",
          "text": [
            "Trial 1, Epoch 4/5, Average Train Loss: 0.1274\n"
          ]
        },
        {
          "metadata": {
            "tags": null
          },
          "name": "stderr",
          "output_type": "stream",
          "text": [
            "\r"
          ]
        },
        {
          "metadata": {
            "tags": null
          },
          "name": "stdout",
          "output_type": "stream",
          "text": [
            "Validation Loss: 0.1214, Validation Accuracy: 95.45%\n",
            "  Validation Accuracy: 95.45%, Validation Loss: 0.1214\n",
            "  New best validation accuracy: 95.45%\n",
            "Starting Trial 1, Epoch 5/5\n"
          ]
        },
        {
          "metadata": {
            "tags": null
          },
          "name": "stderr",
          "output_type": "stream",
          "text": [
            "Training:  26%|██▌       | 10/39 [00:42<01:51,  3.84s/it]"
          ]
        },
        {
          "metadata": {
            "tags": null
          },
          "name": "stdout",
          "output_type": "stream",
          "text": [
            "  Batch 10/39, Loss: 0.1106\n"
          ]
        },
        {
          "metadata": {
            "tags": null
          },
          "name": "stderr",
          "output_type": "stream",
          "text": [
            "Training:  51%|█████▏    | 20/39 [01:20<01:04,  3.37s/it]"
          ]
        },
        {
          "metadata": {
            "tags": null
          },
          "name": "stdout",
          "output_type": "stream",
          "text": [
            "  Batch 20/39, Loss: 0.0130\n"
          ]
        },
        {
          "metadata": {
            "tags": null
          },
          "name": "stderr",
          "output_type": "stream",
          "text": [
            "Training:  77%|███████▋  | 30/39 [01:57<00:26,  2.96s/it]"
          ]
        },
        {
          "metadata": {
            "tags": null
          },
          "name": "stdout",
          "output_type": "stream",
          "text": [
            "  Batch 30/39, Loss: 0.0458\n"
          ]
        },
        {
          "metadata": {
            "tags": null
          },
          "name": "stderr",
          "output_type": "stream",
          "text": [
            "                                                         "
          ]
        },
        {
          "metadata": {
            "tags": null
          },
          "name": "stdout",
          "output_type": "stream",
          "text": [
            "Trial 1, Epoch 5/5, Average Train Loss: 0.0989\n"
          ]
        },
        {
          "metadata": {
            "tags": null
          },
          "name": "stderr",
          "output_type": "stream",
          "text": [
            "\r[I 2024-12-11 17:32:55,238] Trial 1 finished with value: 96.1038961038961 and parameters: {'learning_rate': 1.3066739238053272e-05, 'weight_decay': 0.0003967605077052988, 'optimizer': 'AdamW', 'dropout_rate': 0.6879639408647977}. Best is trial 0 with value: 98.7012987012987.\n"
          ]
        },
        {
          "metadata": {
            "tags": null
          },
          "name": "stdout",
          "output_type": "stream",
          "text": [
            "Validation Loss: 0.1291, Validation Accuracy: 96.10%\n",
            "  Validation Accuracy: 96.10%, Validation Loss: 0.1291\n",
            "  New best validation accuracy: 96.10%\n",
            "Starting Trial 2, Epoch 1/5\n"
          ]
        },
        {
          "metadata": {
            "tags": null
          },
          "name": "stderr",
          "output_type": "stream",
          "text": [
            "Training:  26%|██▌       | 10/39 [00:40<01:32,  3.21s/it]"
          ]
        },
        {
          "metadata": {
            "tags": null
          },
          "name": "stdout",
          "output_type": "stream",
          "text": [
            "  Batch 10/39, Loss: 0.5880\n"
          ]
        },
        {
          "metadata": {
            "tags": null
          },
          "name": "stderr",
          "output_type": "stream",
          "text": [
            "Training:  51%|█████▏    | 20/39 [01:19<01:03,  3.35s/it]"
          ]
        },
        {
          "metadata": {
            "tags": null
          },
          "name": "stdout",
          "output_type": "stream",
          "text": [
            "  Batch 20/39, Loss: 0.7649\n"
          ]
        },
        {
          "metadata": {
            "tags": null
          },
          "name": "stderr",
          "output_type": "stream",
          "text": [
            "Training:  77%|███████▋  | 30/39 [01:57<00:32,  3.56s/it]"
          ]
        },
        {
          "metadata": {
            "tags": null
          },
          "name": "stdout",
          "output_type": "stream",
          "text": [
            "  Batch 30/39, Loss: 0.5680\n"
          ]
        },
        {
          "metadata": {
            "tags": null
          },
          "name": "stderr",
          "output_type": "stream",
          "text": [
            "                                                         "
          ]
        },
        {
          "metadata": {
            "tags": null
          },
          "name": "stdout",
          "output_type": "stream",
          "text": [
            "Trial 2, Epoch 1/5, Average Train Loss: 0.6177\n"
          ]
        },
        {
          "metadata": {
            "tags": null
          },
          "name": "stderr",
          "output_type": "stream",
          "text": [
            "\r"
          ]
        },
        {
          "metadata": {
            "tags": null
          },
          "name": "stdout",
          "output_type": "stream",
          "text": [
            "Validation Loss: 0.4417, Validation Accuracy: 83.77%\n",
            "  Validation Accuracy: 83.77%, Validation Loss: 0.4417\n",
            "  New best validation accuracy: 83.77%\n",
            "Starting Trial 2, Epoch 2/5\n"
          ]
        },
        {
          "metadata": {
            "tags": null
          },
          "name": "stderr",
          "output_type": "stream",
          "text": [
            "Training:  26%|██▌       | 10/39 [00:38<01:32,  3.19s/it]"
          ]
        },
        {
          "metadata": {
            "tags": null
          },
          "name": "stdout",
          "output_type": "stream",
          "text": [
            "  Batch 10/39, Loss: 0.6306\n"
          ]
        },
        {
          "metadata": {
            "tags": null
          },
          "name": "stderr",
          "output_type": "stream",
          "text": [
            "Training:  51%|█████▏    | 20/39 [01:16<01:02,  3.27s/it]"
          ]
        },
        {
          "metadata": {
            "tags": null
          },
          "name": "stdout",
          "output_type": "stream",
          "text": [
            "  Batch 20/39, Loss: 0.6405\n"
          ]
        },
        {
          "metadata": {
            "tags": null
          },
          "name": "stderr",
          "output_type": "stream",
          "text": [
            "Training:  77%|███████▋  | 30/39 [01:58<00:30,  3.38s/it]"
          ]
        },
        {
          "metadata": {
            "tags": null
          },
          "name": "stdout",
          "output_type": "stream",
          "text": [
            "  Batch 30/39, Loss: 0.6775\n"
          ]
        },
        {
          "metadata": {
            "tags": null
          },
          "name": "stderr",
          "output_type": "stream",
          "text": [
            "                                                         "
          ]
        },
        {
          "metadata": {
            "tags": null
          },
          "name": "stdout",
          "output_type": "stream",
          "text": [
            "Trial 2, Epoch 2/5, Average Train Loss: 0.4661\n"
          ]
        },
        {
          "metadata": {
            "tags": null
          },
          "name": "stderr",
          "output_type": "stream",
          "text": [
            "\r"
          ]
        },
        {
          "metadata": {
            "tags": null
          },
          "name": "stdout",
          "output_type": "stream",
          "text": [
            "Validation Loss: 0.3895, Validation Accuracy: 83.77%\n",
            "  Validation Accuracy: 83.77%, Validation Loss: 0.3895\n",
            "Starting Trial 2, Epoch 3/5\n"
          ]
        },
        {
          "metadata": {
            "tags": null
          },
          "name": "stderr",
          "output_type": "stream",
          "text": [
            "Training:  26%|██▌       | 10/39 [00:40<01:44,  3.61s/it]"
          ]
        },
        {
          "metadata": {
            "tags": null
          },
          "name": "stdout",
          "output_type": "stream",
          "text": [
            "  Batch 10/39, Loss: 0.4529\n"
          ]
        },
        {
          "metadata": {
            "tags": null
          },
          "name": "stderr",
          "output_type": "stream",
          "text": [
            "Training:  51%|█████▏    | 20/39 [01:16<00:59,  3.15s/it]"
          ]
        },
        {
          "metadata": {
            "tags": null
          },
          "name": "stdout",
          "output_type": "stream",
          "text": [
            "  Batch 20/39, Loss: 0.5342\n"
          ]
        },
        {
          "metadata": {
            "tags": null
          },
          "name": "stderr",
          "output_type": "stream",
          "text": [
            "Training:  77%|███████▋  | 30/39 [01:58<00:37,  4.21s/it]"
          ]
        },
        {
          "metadata": {
            "tags": null
          },
          "name": "stdout",
          "output_type": "stream",
          "text": [
            "  Batch 30/39, Loss: 0.2921\n"
          ]
        },
        {
          "metadata": {
            "tags": null
          },
          "name": "stderr",
          "output_type": "stream",
          "text": [
            "                                                         "
          ]
        },
        {
          "metadata": {
            "tags": null
          },
          "name": "stdout",
          "output_type": "stream",
          "text": [
            "Trial 2, Epoch 3/5, Average Train Loss: 0.4082\n"
          ]
        },
        {
          "metadata": {
            "tags": null
          },
          "name": "stderr",
          "output_type": "stream",
          "text": [
            "\r"
          ]
        },
        {
          "metadata": {
            "tags": null
          },
          "name": "stdout",
          "output_type": "stream",
          "text": [
            "Validation Loss: 0.3624, Validation Accuracy: 83.77%\n",
            "  Validation Accuracy: 83.77%, Validation Loss: 0.3624\n",
            "Starting Trial 2, Epoch 4/5\n"
          ]
        },
        {
          "metadata": {
            "tags": null
          },
          "name": "stderr",
          "output_type": "stream",
          "text": [
            "Training:  26%|██▌       | 10/39 [00:39<01:53,  3.91s/it]"
          ]
        },
        {
          "metadata": {
            "tags": null
          },
          "name": "stdout",
          "output_type": "stream",
          "text": [
            "  Batch 10/39, Loss: 0.4697\n"
          ]
        },
        {
          "metadata": {
            "tags": null
          },
          "name": "stderr",
          "output_type": "stream",
          "text": [
            "Training:  51%|█████▏    | 20/39 [01:20<01:17,  4.09s/it]"
          ]
        },
        {
          "metadata": {
            "tags": null
          },
          "name": "stdout",
          "output_type": "stream",
          "text": [
            "  Batch 20/39, Loss: 0.1837\n"
          ]
        },
        {
          "metadata": {
            "tags": null
          },
          "name": "stderr",
          "output_type": "stream",
          "text": [
            "Training:  77%|███████▋  | 30/39 [02:00<00:42,  4.68s/it]"
          ]
        },
        {
          "metadata": {
            "tags": null
          },
          "name": "stdout",
          "output_type": "stream",
          "text": [
            "  Batch 30/39, Loss: 0.2534\n"
          ]
        },
        {
          "metadata": {
            "tags": null
          },
          "name": "stderr",
          "output_type": "stream",
          "text": [
            "                                                         "
          ]
        },
        {
          "metadata": {
            "tags": null
          },
          "name": "stdout",
          "output_type": "stream",
          "text": [
            "Trial 2, Epoch 4/5, Average Train Loss: 0.3955\n"
          ]
        },
        {
          "metadata": {
            "tags": null
          },
          "name": "stderr",
          "output_type": "stream",
          "text": [
            "\r"
          ]
        },
        {
          "metadata": {
            "tags": null
          },
          "name": "stdout",
          "output_type": "stream",
          "text": [
            "Validation Loss: 0.3402, Validation Accuracy: 83.77%\n",
            "  Validation Accuracy: 83.77%, Validation Loss: 0.3402\n",
            "Starting Trial 2, Epoch 5/5\n"
          ]
        },
        {
          "metadata": {
            "tags": null
          },
          "name": "stderr",
          "output_type": "stream",
          "text": [
            "Training:  26%|██▌       | 10/39 [00:41<01:37,  3.37s/it]"
          ]
        },
        {
          "metadata": {
            "tags": null
          },
          "name": "stdout",
          "output_type": "stream",
          "text": [
            "  Batch 10/39, Loss: 0.3502\n"
          ]
        },
        {
          "metadata": {
            "tags": null
          },
          "name": "stderr",
          "output_type": "stream",
          "text": [
            "Training:  51%|█████▏    | 20/39 [01:20<01:06,  3.49s/it]"
          ]
        },
        {
          "metadata": {
            "tags": null
          },
          "name": "stdout",
          "output_type": "stream",
          "text": [
            "  Batch 20/39, Loss: 0.4144\n"
          ]
        },
        {
          "metadata": {
            "tags": null
          },
          "name": "stderr",
          "output_type": "stream",
          "text": [
            "Training:  77%|███████▋  | 30/39 [01:56<00:26,  2.91s/it]"
          ]
        },
        {
          "metadata": {
            "tags": null
          },
          "name": "stdout",
          "output_type": "stream",
          "text": [
            "  Batch 30/39, Loss: 0.1739\n"
          ]
        },
        {
          "metadata": {
            "tags": null
          },
          "name": "stderr",
          "output_type": "stream",
          "text": [
            "                                                         "
          ]
        },
        {
          "metadata": {
            "tags": null
          },
          "name": "stdout",
          "output_type": "stream",
          "text": [
            "Trial 2, Epoch 5/5, Average Train Loss: 0.3505\n"
          ]
        },
        {
          "metadata": {
            "tags": null
          },
          "name": "stderr",
          "output_type": "stream",
          "text": [
            "\r[I 2024-12-11 17:48:20,138] Trial 2 finished with value: 85.71428571428571 and parameters: {'learning_rate': 0.000462258900102083, 'weight_decay': 4.335281794951567e-06, 'optimizer': 'SGD', 'dropout_rate': 0.5099025726528951, 'momentum': 0.7116530591346367}. Best is trial 0 with value: 98.7012987012987.\n"
          ]
        },
        {
          "metadata": {
            "tags": null
          },
          "name": "stdout",
          "output_type": "stream",
          "text": [
            "Validation Loss: 0.3109, Validation Accuracy: 85.71%\n",
            "  Validation Accuracy: 85.71%, Validation Loss: 0.3109\n",
            "  New best validation accuracy: 85.71%\n",
            "Starting Trial 3, Epoch 1/5\n"
          ]
        },
        {
          "metadata": {
            "tags": null
          },
          "name": "stderr",
          "output_type": "stream",
          "text": [
            "Training:  26%|██▌       | 10/39 [00:39<01:35,  3.31s/it]"
          ]
        },
        {
          "metadata": {
            "tags": null
          },
          "name": "stdout",
          "output_type": "stream",
          "text": [
            "  Batch 10/39, Loss: 0.7543\n"
          ]
        },
        {
          "metadata": {
            "tags": null
          },
          "name": "stderr",
          "output_type": "stream",
          "text": [
            "Training:  51%|█████▏    | 20/39 [01:20<01:18,  4.12s/it]"
          ]
        },
        {
          "metadata": {
            "tags": null
          },
          "name": "stdout",
          "output_type": "stream",
          "text": [
            "  Batch 20/39, Loss: 0.5732\n"
          ]
        },
        {
          "metadata": {
            "tags": null
          },
          "name": "stderr",
          "output_type": "stream",
          "text": [
            "Training:  77%|███████▋  | 30/39 [01:59<00:42,  4.67s/it]"
          ]
        },
        {
          "metadata": {
            "tags": null
          },
          "name": "stdout",
          "output_type": "stream",
          "text": [
            "  Batch 30/39, Loss: 0.7833\n"
          ]
        },
        {
          "metadata": {
            "tags": null
          },
          "name": "stderr",
          "output_type": "stream",
          "text": [
            "                                                         "
          ]
        },
        {
          "metadata": {
            "tags": null
          },
          "name": "stdout",
          "output_type": "stream",
          "text": [
            "Trial 3, Epoch 1/5, Average Train Loss: 0.8043\n"
          ]
        },
        {
          "metadata": {
            "tags": null
          },
          "name": "stderr",
          "output_type": "stream",
          "text": [
            "\r"
          ]
        },
        {
          "metadata": {
            "tags": null
          },
          "name": "stdout",
          "output_type": "stream",
          "text": [
            "Validation Loss: 0.6317, Validation Accuracy: 70.13%\n",
            "  Validation Accuracy: 70.13%, Validation Loss: 0.6317\n",
            "  New best validation accuracy: 70.13%\n",
            "Starting Trial 3, Epoch 2/5\n"
          ]
        },
        {
          "metadata": {
            "tags": null
          },
          "name": "stderr",
          "output_type": "stream",
          "text": [
            "Training:  26%|██▌       | 10/39 [00:46<01:52,  3.89s/it]"
          ]
        },
        {
          "metadata": {
            "tags": null
          },
          "name": "stdout",
          "output_type": "stream",
          "text": [
            "  Batch 10/39, Loss: 0.5472\n"
          ]
        },
        {
          "metadata": {
            "tags": null
          },
          "name": "stderr",
          "output_type": "stream",
          "text": [
            "Training:  51%|█████▏    | 20/39 [01:18<00:50,  2.67s/it]"
          ]
        },
        {
          "metadata": {
            "tags": null
          },
          "name": "stdout",
          "output_type": "stream",
          "text": [
            "  Batch 20/39, Loss: 0.6906\n"
          ]
        },
        {
          "metadata": {
            "tags": null
          },
          "name": "stderr",
          "output_type": "stream",
          "text": [
            "Training:  77%|███████▋  | 30/39 [01:59<00:37,  4.15s/it]"
          ]
        },
        {
          "metadata": {
            "tags": null
          },
          "name": "stdout",
          "output_type": "stream",
          "text": [
            "  Batch 30/39, Loss: 0.6979\n"
          ]
        },
        {
          "metadata": {
            "tags": null
          },
          "name": "stderr",
          "output_type": "stream",
          "text": [
            "                                                         "
          ]
        },
        {
          "metadata": {
            "tags": null
          },
          "name": "stdout",
          "output_type": "stream",
          "text": [
            "Trial 3, Epoch 2/5, Average Train Loss: 0.6403\n"
          ]
        },
        {
          "metadata": {
            "tags": null
          },
          "name": "stderr",
          "output_type": "stream",
          "text": [
            "\r"
          ]
        },
        {
          "metadata": {
            "tags": null
          },
          "name": "stdout",
          "output_type": "stream",
          "text": [
            "Validation Loss: 0.5536, Validation Accuracy: 83.12%\n",
            "  Validation Accuracy: 83.12%, Validation Loss: 0.5536\n",
            "  New best validation accuracy: 83.12%\n",
            "Starting Trial 3, Epoch 3/5\n"
          ]
        },
        {
          "metadata": {
            "tags": null
          },
          "name": "stderr",
          "output_type": "stream",
          "text": [
            "Training:  26%|██▌       | 10/39 [00:41<01:40,  3.48s/it]"
          ]
        },
        {
          "metadata": {
            "tags": null
          },
          "name": "stdout",
          "output_type": "stream",
          "text": [
            "  Batch 10/39, Loss: 0.4168\n"
          ]
        },
        {
          "metadata": {
            "tags": null
          },
          "name": "stderr",
          "output_type": "stream",
          "text": [
            "Training:  51%|█████▏    | 20/39 [01:17<00:55,  2.91s/it]"
          ]
        },
        {
          "metadata": {
            "tags": null
          },
          "name": "stdout",
          "output_type": "stream",
          "text": [
            "  Batch 20/39, Loss: 0.5950\n"
          ]
        },
        {
          "metadata": {
            "tags": null
          },
          "name": "stderr",
          "output_type": "stream",
          "text": [
            "Training:  77%|███████▋  | 30/39 [01:56<00:31,  3.52s/it]"
          ]
        },
        {
          "metadata": {
            "tags": null
          },
          "name": "stdout",
          "output_type": "stream",
          "text": [
            "  Batch 30/39, Loss: 0.5424\n"
          ]
        },
        {
          "metadata": {
            "tags": null
          },
          "name": "stderr",
          "output_type": "stream",
          "text": [
            "                                                         "
          ]
        },
        {
          "metadata": {
            "tags": null
          },
          "name": "stdout",
          "output_type": "stream",
          "text": [
            "Trial 3, Epoch 3/5, Average Train Loss: 0.5716\n"
          ]
        },
        {
          "metadata": {
            "tags": null
          },
          "name": "stderr",
          "output_type": "stream",
          "text": [
            "\r"
          ]
        },
        {
          "metadata": {
            "tags": null
          },
          "name": "stdout",
          "output_type": "stream",
          "text": [
            "Validation Loss: 0.5094, Validation Accuracy: 83.77%\n",
            "  Validation Accuracy: 83.77%, Validation Loss: 0.5094\n",
            "  New best validation accuracy: 83.77%\n",
            "Starting Trial 3, Epoch 4/5\n"
          ]
        },
        {
          "metadata": {
            "tags": null
          },
          "name": "stderr",
          "output_type": "stream",
          "text": [
            "Training:  26%|██▌       | 10/39 [00:38<01:40,  3.47s/it]"
          ]
        },
        {
          "metadata": {
            "tags": null
          },
          "name": "stdout",
          "output_type": "stream",
          "text": [
            "  Batch 10/39, Loss: 0.4482\n"
          ]
        },
        {
          "metadata": {
            "tags": null
          },
          "name": "stderr",
          "output_type": "stream",
          "text": [
            "Training:  51%|█████▏    | 20/39 [01:19<01:25,  4.50s/it]"
          ]
        },
        {
          "metadata": {
            "tags": null
          },
          "name": "stdout",
          "output_type": "stream",
          "text": [
            "  Batch 20/39, Loss: 0.5829\n"
          ]
        },
        {
          "metadata": {
            "tags": null
          },
          "name": "stderr",
          "output_type": "stream",
          "text": [
            "Training:  77%|███████▋  | 30/39 [01:58<00:39,  4.41s/it]"
          ]
        },
        {
          "metadata": {
            "tags": null
          },
          "name": "stdout",
          "output_type": "stream",
          "text": [
            "  Batch 30/39, Loss: 0.3360\n"
          ]
        },
        {
          "metadata": {
            "tags": null
          },
          "name": "stderr",
          "output_type": "stream",
          "text": [
            "                                                         "
          ]
        },
        {
          "metadata": {
            "tags": null
          },
          "name": "stdout",
          "output_type": "stream",
          "text": [
            "Trial 3, Epoch 4/5, Average Train Loss: 0.5310\n"
          ]
        },
        {
          "metadata": {
            "tags": null
          },
          "name": "stderr",
          "output_type": "stream",
          "text": [
            "\r"
          ]
        },
        {
          "metadata": {
            "tags": null
          },
          "name": "stdout",
          "output_type": "stream",
          "text": [
            "Validation Loss: 0.4914, Validation Accuracy: 83.77%\n",
            "  Validation Accuracy: 83.77%, Validation Loss: 0.4914\n",
            "Starting Trial 3, Epoch 5/5\n"
          ]
        },
        {
          "metadata": {
            "tags": null
          },
          "name": "stderr",
          "output_type": "stream",
          "text": [
            "Training:  26%|██▌       | 10/39 [00:39<01:49,  3.79s/it]"
          ]
        },
        {
          "metadata": {
            "tags": null
          },
          "name": "stdout",
          "output_type": "stream",
          "text": [
            "  Batch 10/39, Loss: 0.4216\n"
          ]
        },
        {
          "metadata": {
            "tags": null
          },
          "name": "stderr",
          "output_type": "stream",
          "text": [
            "Training:  51%|█████▏    | 20/39 [01:22<01:36,  5.09s/it]"
          ]
        },
        {
          "metadata": {
            "tags": null
          },
          "name": "stdout",
          "output_type": "stream",
          "text": [
            "  Batch 20/39, Loss: 0.3933\n"
          ]
        },
        {
          "metadata": {
            "tags": null
          },
          "name": "stderr",
          "output_type": "stream",
          "text": [
            "Training:  77%|███████▋  | 30/39 [02:03<00:40,  4.51s/it]"
          ]
        },
        {
          "metadata": {
            "tags": null
          },
          "name": "stdout",
          "output_type": "stream",
          "text": [
            "  Batch 30/39, Loss: 0.3421\n"
          ]
        },
        {
          "metadata": {
            "tags": null
          },
          "name": "stderr",
          "output_type": "stream",
          "text": [
            "                                                         "
          ]
        },
        {
          "metadata": {
            "tags": null
          },
          "name": "stdout",
          "output_type": "stream",
          "text": [
            "Trial 3, Epoch 5/5, Average Train Loss: 0.5091\n"
          ]
        },
        {
          "metadata": {
            "tags": null
          },
          "name": "stderr",
          "output_type": "stream",
          "text": [
            "\r[I 2024-12-11 18:03:51,160] Trial 3 finished with value: 83.76623376623377 and parameters: {'learning_rate': 3.8234752246751835e-05, 'weight_decay': 6.847920095574779e-05, 'optimizer': 'SGD', 'dropout_rate': 0.4824279936868143, 'momentum': 0.8847362210825767}. Best is trial 0 with value: 98.7012987012987.\n"
          ]
        },
        {
          "metadata": {
            "tags": null
          },
          "name": "stdout",
          "output_type": "stream",
          "text": [
            "Validation Loss: 0.4635, Validation Accuracy: 83.77%\n",
            "  Validation Accuracy: 83.77%, Validation Loss: 0.4635\n",
            "Starting Trial 4, Epoch 1/5\n"
          ]
        },
        {
          "metadata": {
            "tags": null
          },
          "name": "stderr",
          "output_type": "stream",
          "text": [
            "Training:  26%|██▌       | 10/39 [00:41<01:53,  3.90s/it]"
          ]
        },
        {
          "metadata": {
            "tags": null
          },
          "name": "stdout",
          "output_type": "stream",
          "text": [
            "  Batch 10/39, Loss: 0.5544\n"
          ]
        },
        {
          "metadata": {
            "tags": null
          },
          "name": "stderr",
          "output_type": "stream",
          "text": [
            "Training:  51%|█████▏    | 20/39 [01:21<01:22,  4.34s/it]"
          ]
        },
        {
          "metadata": {
            "tags": null
          },
          "name": "stdout",
          "output_type": "stream",
          "text": [
            "  Batch 20/39, Loss: 0.5728\n"
          ]
        },
        {
          "metadata": {
            "tags": null
          },
          "name": "stderr",
          "output_type": "stream",
          "text": [
            "Training:  77%|███████▋  | 30/39 [01:57<00:32,  3.58s/it]"
          ]
        },
        {
          "metadata": {
            "tags": null
          },
          "name": "stdout",
          "output_type": "stream",
          "text": [
            "  Batch 30/39, Loss: 0.6656\n"
          ]
        },
        {
          "metadata": {
            "tags": null
          },
          "name": "stderr",
          "output_type": "stream",
          "text": [
            "                                                         "
          ]
        },
        {
          "metadata": {
            "tags": null
          },
          "name": "stdout",
          "output_type": "stream",
          "text": [
            "Trial 4, Epoch 1/5, Average Train Loss: 0.6185\n"
          ]
        },
        {
          "metadata": {
            "tags": null
          },
          "name": "stderr",
          "output_type": "stream",
          "text": [
            "\r"
          ]
        },
        {
          "metadata": {
            "tags": null
          },
          "name": "stdout",
          "output_type": "stream",
          "text": [
            "Validation Loss: 0.5257, Validation Accuracy: 83.77%\n",
            "  Validation Accuracy: 83.77%, Validation Loss: 0.5257\n",
            "  New best validation accuracy: 83.77%\n",
            "Starting Trial 4, Epoch 2/5\n"
          ]
        },
        {
          "metadata": {
            "tags": null
          },
          "name": "stderr",
          "output_type": "stream",
          "text": [
            "Training:  26%|██▌       | 10/39 [00:42<01:53,  3.92s/it]"
          ]
        },
        {
          "metadata": {
            "tags": null
          },
          "name": "stdout",
          "output_type": "stream",
          "text": [
            "  Batch 10/39, Loss: 0.5196\n"
          ]
        },
        {
          "metadata": {
            "tags": null
          },
          "name": "stderr",
          "output_type": "stream",
          "text": [
            "Training:  51%|█████▏    | 20/39 [01:20<01:14,  3.94s/it]"
          ]
        },
        {
          "metadata": {
            "tags": null
          },
          "name": "stdout",
          "output_type": "stream",
          "text": [
            "  Batch 20/39, Loss: 0.5162\n"
          ]
        },
        {
          "metadata": {
            "tags": null
          },
          "name": "stderr",
          "output_type": "stream",
          "text": [
            "Training:  77%|███████▋  | 30/39 [01:58<00:36,  4.02s/it]"
          ]
        },
        {
          "metadata": {
            "tags": null
          },
          "name": "stdout",
          "output_type": "stream",
          "text": [
            "  Batch 30/39, Loss: 0.7225\n"
          ]
        },
        {
          "metadata": {
            "tags": null
          },
          "name": "stderr",
          "output_type": "stream",
          "text": [
            "                                                         "
          ]
        },
        {
          "metadata": {
            "tags": null
          },
          "name": "stdout",
          "output_type": "stream",
          "text": [
            "Trial 4, Epoch 2/5, Average Train Loss: 0.5885\n"
          ]
        },
        {
          "metadata": {
            "tags": null
          },
          "name": "stderr",
          "output_type": "stream",
          "text": [
            "\r"
          ]
        },
        {
          "metadata": {
            "tags": null
          },
          "name": "stdout",
          "output_type": "stream",
          "text": [
            "Validation Loss: 0.5205, Validation Accuracy: 83.77%\n",
            "  Validation Accuracy: 83.77%, Validation Loss: 0.5205\n",
            "Starting Trial 4, Epoch 3/5\n"
          ]
        },
        {
          "metadata": {
            "tags": null
          },
          "name": "stderr",
          "output_type": "stream",
          "text": [
            "Training:  26%|██▌       | 10/39 [00:39<01:43,  3.57s/it]"
          ]
        },
        {
          "metadata": {
            "tags": null
          },
          "name": "stdout",
          "output_type": "stream",
          "text": [
            "  Batch 10/39, Loss: 0.5874\n"
          ]
        },
        {
          "metadata": {
            "tags": null
          },
          "name": "stderr",
          "output_type": "stream",
          "text": [
            "Training:  51%|█████▏    | 20/39 [01:17<01:02,  3.29s/it]"
          ]
        },
        {
          "metadata": {
            "tags": null
          },
          "name": "stdout",
          "output_type": "stream",
          "text": [
            "  Batch 20/39, Loss: 0.7646\n"
          ]
        },
        {
          "metadata": {
            "tags": null
          },
          "name": "stderr",
          "output_type": "stream",
          "text": [
            "Training:  77%|███████▋  | 30/39 [01:56<00:32,  3.65s/it]"
          ]
        },
        {
          "metadata": {
            "tags": null
          },
          "name": "stdout",
          "output_type": "stream",
          "text": [
            "  Batch 30/39, Loss: 0.6198\n"
          ]
        },
        {
          "metadata": {
            "tags": null
          },
          "name": "stderr",
          "output_type": "stream",
          "text": [
            "                                                         "
          ]
        },
        {
          "metadata": {
            "tags": null
          },
          "name": "stdout",
          "output_type": "stream",
          "text": [
            "Trial 4, Epoch 3/5, Average Train Loss: 0.6072\n"
          ]
        },
        {
          "metadata": {
            "tags": null
          },
          "name": "stderr",
          "output_type": "stream",
          "text": [
            "\r"
          ]
        },
        {
          "output_type": "stream",
          "name": "stdout",
          "text": [
            "Validation Loss: 0.5103, Validation Accuracy: 83.77%\n",
            "  Validation Accuracy: 83.77%, Validation Loss: 0.5103\n",
            "Starting Trial 4, Epoch 4/5\n"
          ]
        },
        {
          "output_type": "stream",
          "name": "stderr",
          "text": [
            "Training:  26%|██▌       | 10/39 [00:38<01:28,  3.06s/it]"
          ]
        },
        {
          "output_type": "stream",
          "name": "stdout",
          "text": [
            "  Batch 10/39, Loss: 0.5972\n"
          ]
        },
        {
          "output_type": "stream",
          "name": "stderr",
          "text": [
            "Training:  51%|█████▏    | 20/39 [01:16<01:04,  3.38s/it]"
          ]
        },
        {
          "output_type": "stream",
          "name": "stdout",
          "text": [
            "  Batch 20/39, Loss: 0.5972\n"
          ]
        },
        {
          "output_type": "stream",
          "name": "stderr",
          "text": [
            "Training:  77%|███████▋  | 30/39 [01:54<00:31,  3.48s/it]"
          ]
        },
        {
          "output_type": "stream",
          "name": "stdout",
          "text": [
            "  Batch 30/39, Loss: 0.6043\n"
          ]
        },
        {
          "output_type": "stream",
          "name": "stderr",
          "text": [
            "                                                         "
          ]
        },
        {
          "output_type": "stream",
          "name": "stdout",
          "text": [
            "Trial 4, Epoch 4/5, Average Train Loss: 0.5994\n"
          ]
        },
        {
          "output_type": "stream",
          "name": "stderr",
          "text": [
            "\r"
          ]
        },
        {
          "output_type": "stream",
          "name": "stdout",
          "text": [
            "Validation Loss: 0.5076, Validation Accuracy: 83.77%\n",
            "  Validation Accuracy: 83.77%, Validation Loss: 0.5076\n",
            "Starting Trial 4, Epoch 5/5\n"
          ]
        },
        {
          "output_type": "stream",
          "name": "stderr",
          "text": [
            "Training:  26%|██▌       | 10/39 [00:38<01:27,  3.01s/it]"
          ]
        },
        {
          "output_type": "stream",
          "name": "stdout",
          "text": [
            "  Batch 10/39, Loss: 0.6533\n"
          ]
        },
        {
          "output_type": "stream",
          "name": "stderr",
          "text": [
            "Training:  51%|█████▏    | 20/39 [01:19<01:05,  3.46s/it]"
          ]
        },
        {
          "output_type": "stream",
          "name": "stdout",
          "text": [
            "  Batch 20/39, Loss: 0.6158\n"
          ]
        },
        {
          "output_type": "stream",
          "name": "stderr",
          "text": [
            "Training:  77%|███████▋  | 30/39 [01:57<00:27,  3.06s/it]"
          ]
        },
        {
          "output_type": "stream",
          "name": "stdout",
          "text": [
            "  Batch 30/39, Loss: 0.5235\n"
          ]
        },
        {
          "output_type": "stream",
          "name": "stderr",
          "text": [
            "                                                         "
          ]
        },
        {
          "output_type": "stream",
          "name": "stdout",
          "text": [
            "Trial 4, Epoch 5/5, Average Train Loss: 0.5579\n"
          ]
        },
        {
          "output_type": "stream",
          "name": "stderr",
          "text": [
            "\r[I 2024-12-11 18:19:12,854] Trial 4 finished with value: 83.76623376623377 and parameters: {'learning_rate': 2.5081156860452307e-05, 'weight_decay': 3.489018845491386e-05, 'optimizer': 'SGD', 'dropout_rate': 0.3682096494749166, 'momentum': 0.531875280562787}. Best is trial 0 with value: 98.7012987012987.\n"
          ]
        },
        {
          "output_type": "stream",
          "name": "stdout",
          "text": [
            "Validation Loss: 0.4974, Validation Accuracy: 83.77%\n",
            "  Validation Accuracy: 83.77%, Validation Loss: 0.4974\n",
            "Starting Trial 5, Epoch 1/5\n"
          ]
        },
        {
          "output_type": "stream",
          "name": "stderr",
          "text": [
            "Training:  26%|██▌       | 10/39 [00:39<01:39,  3.43s/it]"
          ]
        },
        {
          "output_type": "stream",
          "name": "stdout",
          "text": [
            "  Batch 10/39, Loss: 1.2021\n"
          ]
        },
        {
          "output_type": "stream",
          "name": "stderr",
          "text": [
            "Training:  51%|█████▏    | 20/39 [01:16<01:02,  3.28s/it]"
          ]
        },
        {
          "output_type": "stream",
          "name": "stdout",
          "text": [
            "  Batch 20/39, Loss: 0.6251\n"
          ]
        },
        {
          "output_type": "stream",
          "name": "stderr",
          "text": [
            "Training:  77%|███████▋  | 30/39 [01:54<00:32,  3.63s/it]"
          ]
        },
        {
          "output_type": "stream",
          "name": "stdout",
          "text": [
            "  Batch 30/39, Loss: 0.1029\n"
          ]
        },
        {
          "output_type": "stream",
          "name": "stderr",
          "text": [
            "                                                         "
          ]
        },
        {
          "output_type": "stream",
          "name": "stdout",
          "text": [
            "Trial 5, Epoch 1/5, Average Train Loss: 1.5411\n"
          ]
        },
        {
          "output_type": "stream",
          "name": "stderr",
          "text": [
            "\r"
          ]
        },
        {
          "output_type": "stream",
          "name": "stdout",
          "text": [
            "Validation Loss: 1.1158, Validation Accuracy: 83.77%\n",
            "  Validation Accuracy: 83.77%, Validation Loss: 1.1158\n",
            "  New best validation accuracy: 83.77%\n",
            "Starting Trial 5, Epoch 2/5\n"
          ]
        },
        {
          "output_type": "stream",
          "name": "stderr",
          "text": [
            "Training:  26%|██▌       | 10/39 [00:42<01:41,  3.49s/it]"
          ]
        },
        {
          "output_type": "stream",
          "name": "stdout",
          "text": [
            "  Batch 10/39, Loss: 0.4317\n"
          ]
        },
        {
          "output_type": "stream",
          "name": "stderr",
          "text": [
            "Training:  51%|█████▏    | 20/39 [01:17<00:52,  2.74s/it]"
          ]
        },
        {
          "output_type": "stream",
          "name": "stdout",
          "text": [
            "  Batch 20/39, Loss: 0.7061\n"
          ]
        },
        {
          "output_type": "stream",
          "name": "stderr",
          "text": [
            "Training:  77%|███████▋  | 30/39 [01:54<00:29,  3.29s/it]"
          ]
        },
        {
          "output_type": "stream",
          "name": "stdout",
          "text": [
            "  Batch 30/39, Loss: 1.7112\n"
          ]
        },
        {
          "output_type": "stream",
          "name": "stderr",
          "text": [
            "                                                         "
          ]
        },
        {
          "output_type": "stream",
          "name": "stdout",
          "text": [
            "Trial 5, Epoch 2/5, Average Train Loss: 0.5687\n"
          ]
        },
        {
          "output_type": "stream",
          "name": "stderr",
          "text": [
            "\r"
          ]
        },
        {
          "output_type": "stream",
          "name": "stdout",
          "text": [
            "Validation Loss: 0.4577, Validation Accuracy: 83.77%\n",
            "  Validation Accuracy: 83.77%, Validation Loss: 0.4577\n",
            "Starting Trial 5, Epoch 3/5\n"
          ]
        },
        {
          "output_type": "stream",
          "name": "stderr",
          "text": [
            "Training:  26%|██▌       | 10/39 [00:39<01:49,  3.79s/it]"
          ]
        },
        {
          "output_type": "stream",
          "name": "stdout",
          "text": [
            "  Batch 10/39, Loss: 0.5060\n"
          ]
        },
        {
          "output_type": "stream",
          "name": "stderr",
          "text": [
            "Training:  51%|█████▏    | 20/39 [01:19<01:22,  4.35s/it]"
          ]
        },
        {
          "output_type": "stream",
          "name": "stdout",
          "text": [
            "  Batch 20/39, Loss: 0.2209\n"
          ]
        },
        {
          "output_type": "stream",
          "name": "stderr",
          "text": [
            "Training:  77%|███████▋  | 30/39 [01:54<00:27,  3.03s/it]"
          ]
        },
        {
          "output_type": "stream",
          "name": "stdout",
          "text": [
            "  Batch 30/39, Loss: 0.6722\n"
          ]
        },
        {
          "output_type": "stream",
          "name": "stderr",
          "text": []
        },
        {
          "output_type": "stream",
          "name": "stdout",
          "text": [
            "Trial 5, Epoch 3/5, Average Train Loss: 0.4982\n",
            "Validation Loss: 0.4815, Validation Accuracy: 83.77%\n",
            "  Validation Accuracy: 83.77%, Validation Loss: 0.4815\n",
            "Starting Trial 5, Epoch 4/5\n"
          ]
        },
        {
          "output_type": "stream",
          "name": "stderr",
          "text": [
            "Training:  26%|██▌       | 10/39 [00:39<01:38,  3.39s/it]"
          ]
        },
        {
          "output_type": "stream",
          "name": "stdout",
          "text": [
            "  Batch 10/39, Loss: 1.0469\n"
          ]
        },
        {
          "output_type": "stream",
          "name": "stderr",
          "text": [
            "Training:  51%|█████▏    | 20/39 [01:18<01:00,  3.17s/it]"
          ]
        },
        {
          "output_type": "stream",
          "name": "stdout",
          "text": [
            "  Batch 20/39, Loss: 0.3445\n"
          ]
        },
        {
          "output_type": "stream",
          "name": "stderr",
          "text": [
            "Training:  77%|███████▋  | 30/39 [01:58<00:29,  3.30s/it]"
          ]
        },
        {
          "output_type": "stream",
          "name": "stdout",
          "text": [
            "  Batch 30/39, Loss: 0.5362\n"
          ]
        },
        {
          "output_type": "stream",
          "name": "stderr",
          "text": [
            "                                                         "
          ]
        },
        {
          "output_type": "stream",
          "name": "stdout",
          "text": [
            "Trial 5, Epoch 4/5, Average Train Loss: 0.5206\n"
          ]
        },
        {
          "output_type": "stream",
          "name": "stderr",
          "text": [
            "\r"
          ]
        },
        {
          "output_type": "stream",
          "name": "stdout",
          "text": [
            "Validation Loss: 0.4580, Validation Accuracy: 83.77%\n",
            "  Validation Accuracy: 83.77%, Validation Loss: 0.4580\n",
            "Starting Trial 5, Epoch 5/5\n"
          ]
        },
        {
          "output_type": "stream",
          "name": "stderr",
          "text": [
            "Training:  26%|██▌       | 10/39 [00:38<01:43,  3.56s/it]"
          ]
        },
        {
          "output_type": "stream",
          "name": "stdout",
          "text": [
            "  Batch 10/39, Loss: 0.5408\n"
          ]
        },
        {
          "output_type": "stream",
          "name": "stderr",
          "text": [
            "Training:  51%|█████▏    | 20/39 [01:20<01:20,  4.24s/it]"
          ]
        },
        {
          "output_type": "stream",
          "name": "stdout",
          "text": [
            "  Batch 20/39, Loss: 0.7379\n"
          ]
        },
        {
          "output_type": "stream",
          "name": "stderr",
          "text": [
            "Training:  77%|███████▋  | 30/39 [02:00<00:37,  4.20s/it]"
          ]
        },
        {
          "output_type": "stream",
          "name": "stdout",
          "text": [
            "  Batch 30/39, Loss: 0.1209\n"
          ]
        },
        {
          "output_type": "stream",
          "name": "stderr",
          "text": []
        },
        {
          "output_type": "stream",
          "name": "stdout",
          "text": [
            "Trial 5, Epoch 5/5, Average Train Loss: 0.5582\n"
          ]
        },
        {
          "output_type": "stream",
          "name": "stderr",
          "text": [
            "[I 2024-12-11 18:34:35,966] Trial 5 pruned. \n"
          ]
        },
        {
          "output_type": "stream",
          "name": "stdout",
          "text": [
            "Validation Loss: 0.4620, Validation Accuracy: 83.77%\n",
            "  Validation Accuracy: 83.77%, Validation Loss: 0.4620\n",
            "  Trial is pruned\n",
            "Starting Trial 6, Epoch 1/5\n"
          ]
        },
        {
          "output_type": "stream",
          "name": "stderr",
          "text": [
            "Training:  26%|██▌       | 10/39 [00:35<01:27,  3.01s/it]"
          ]
        },
        {
          "output_type": "stream",
          "name": "stdout",
          "text": [
            "  Batch 10/39, Loss: 0.5299\n"
          ]
        },
        {
          "output_type": "stream",
          "name": "stderr",
          "text": [
            "Training:  51%|█████▏    | 20/39 [01:13<01:03,  3.35s/it]"
          ]
        },
        {
          "output_type": "stream",
          "name": "stdout",
          "text": [
            "  Batch 20/39, Loss: 0.6744\n"
          ]
        },
        {
          "output_type": "stream",
          "name": "stderr",
          "text": [
            "Training:  77%|███████▋  | 30/39 [01:51<00:30,  3.40s/it]"
          ]
        },
        {
          "output_type": "stream",
          "name": "stdout",
          "text": [
            "  Batch 30/39, Loss: 0.4300\n"
          ]
        },
        {
          "output_type": "stream",
          "name": "stderr",
          "text": [
            "                                                         "
          ]
        },
        {
          "output_type": "stream",
          "name": "stdout",
          "text": [
            "Trial 6, Epoch 1/5, Average Train Loss: 0.6301\n"
          ]
        },
        {
          "output_type": "stream",
          "name": "stderr",
          "text": [
            "\r[I 2024-12-11 18:37:37,687] Trial 6 pruned. \n"
          ]
        },
        {
          "output_type": "stream",
          "name": "stdout",
          "text": [
            "Validation Loss: 0.4985, Validation Accuracy: 83.12%\n",
            "  Validation Accuracy: 83.12%, Validation Loss: 0.4985\n",
            "  Trial is pruned\n",
            "Starting Trial 7, Epoch 1/5\n"
          ]
        },
        {
          "output_type": "stream",
          "name": "stderr",
          "text": [
            "Training:  26%|██▌       | 10/39 [00:39<01:35,  3.28s/it]"
          ]
        },
        {
          "output_type": "stream",
          "name": "stdout",
          "text": [
            "  Batch 10/39, Loss: 0.9070\n"
          ]
        },
        {
          "output_type": "stream",
          "name": "stderr",
          "text": [
            "Training:  51%|█████▏    | 20/39 [01:16<00:56,  2.98s/it]"
          ]
        },
        {
          "output_type": "stream",
          "name": "stdout",
          "text": [
            "  Batch 20/39, Loss: 0.5721\n"
          ]
        },
        {
          "output_type": "stream",
          "name": "stderr",
          "text": [
            "Training:  77%|███████▋  | 30/39 [01:56<00:28,  3.17s/it]"
          ]
        },
        {
          "output_type": "stream",
          "name": "stdout",
          "text": [
            "  Batch 30/39, Loss: 0.5697\n"
          ]
        },
        {
          "output_type": "stream",
          "name": "stderr",
          "text": [
            "                                                         "
          ]
        },
        {
          "output_type": "stream",
          "name": "stdout",
          "text": [
            "Trial 7, Epoch 1/5, Average Train Loss: 0.7124\n"
          ]
        },
        {
          "output_type": "stream",
          "name": "stderr",
          "text": [
            "\r"
          ]
        },
        {
          "output_type": "stream",
          "name": "stdout",
          "text": [
            "Validation Loss: 0.4962, Validation Accuracy: 84.42%\n",
            "  Validation Accuracy: 84.42%, Validation Loss: 0.4962\n",
            "  New best validation accuracy: 84.42%\n",
            "Starting Trial 7, Epoch 2/5\n"
          ]
        },
        {
          "output_type": "stream",
          "name": "stderr",
          "text": [
            "Training:  26%|██▌       | 10/39 [00:41<01:42,  3.55s/it]"
          ]
        },
        {
          "output_type": "stream",
          "name": "stdout",
          "text": [
            "  Batch 10/39, Loss: 0.7112\n"
          ]
        },
        {
          "output_type": "stream",
          "name": "stderr",
          "text": [
            "Training:  51%|█████▏    | 20/39 [01:19<01:01,  3.25s/it]"
          ]
        },
        {
          "output_type": "stream",
          "name": "stdout",
          "text": [
            "  Batch 20/39, Loss: 0.5492\n"
          ]
        },
        {
          "output_type": "stream",
          "name": "stderr",
          "text": [
            "Training:  77%|███████▋  | 30/39 [02:00<00:30,  3.42s/it]"
          ]
        },
        {
          "output_type": "stream",
          "name": "stdout",
          "text": [
            "  Batch 30/39, Loss: 0.7116\n"
          ]
        },
        {
          "output_type": "stream",
          "name": "stderr",
          "text": [
            "                                                         "
          ]
        },
        {
          "output_type": "stream",
          "name": "stdout",
          "text": [
            "Trial 7, Epoch 2/5, Average Train Loss: 0.5327\n"
          ]
        },
        {
          "output_type": "stream",
          "name": "stderr",
          "text": [
            "\r"
          ]
        },
        {
          "output_type": "stream",
          "name": "stdout",
          "text": [
            "Validation Loss: 0.4286, Validation Accuracy: 83.77%\n",
            "  Validation Accuracy: 83.77%, Validation Loss: 0.4286\n",
            "Starting Trial 7, Epoch 3/5\n"
          ]
        },
        {
          "output_type": "stream",
          "name": "stderr",
          "text": [
            "\rTraining:   0%|          | 0/39 [00:00<?, ?it/s]"
          ]
        }
      ]
    }
  ]
}