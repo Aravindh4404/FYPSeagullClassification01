{
  "cells": [
    {
      "cell_type": "markdown",
      "metadata": {
        "id": "view-in-github",
        "colab_type": "text"
      },
      "source": [
        "<a href=\"https://colab.research.google.com/github/Aravindh4404/FYPSeagullClassification01/blob/main/OrigAdultInflightResnet1410_4.ipynb\" target=\"_parent\"><img src=\"https://colab.research.google.com/assets/colab-badge.svg\" alt=\"Open In Colab\"/></a>"
      ]
    },
    {
      "cell_type": "code",
      "source": [
        "# Mount Google Drive to access/save files\n",
        "from google.colab import drive\n",
        "drive.mount('/content/drive')\n",
        "\n",
        "# Import necessary libraries\n",
        "import numpy as np\n",
        "import tensorflow as tf\n",
        "from tensorflow.keras.preprocessing.image import ImageDataGenerator\n",
        "from tensorflow.keras.applications import ResNet50\n",
        "from tensorflow.keras.layers import Dense, GlobalAveragePooling2D\n",
        "from tensorflow.keras.models import Model\n",
        "from tensorflow.keras.callbacks import EarlyStopping, ModelCheckpoint\n",
        "import os\n",
        "\n",
        "# Define paths to training data\n",
        "train_data_root = \"/content/drive/My Drive/FYP/Dataset/Original_Adult_In-flight/train\"\n",
        "IMAGE_SHAPE = (224, 224)  # Image size for ResNet50\n",
        "BATCH_SIZE = 32  # Larger batch size for faster training\n",
        "EPOCHS = 20  # Initial number of epochs\n",
        "\n",
        "# Output paths for saving models and other results\n",
        "MODEL_SAVE_PATH = '/content/drive/My Drive/FYP/MODELS/best_resnet50_model_v2.keras'\n",
        "CLASS_INDICES_SAVE_PATH = '/content/drive/My Drive/FYP/class_indices_v2.npy'\n",
        "\n",
        "# Create ImageDataGenerator for training and validation with increased augmentation\n",
        "train_datagen = ImageDataGenerator(\n",
        "    rescale=1./255,  # Normalize the pixel values\n",
        "    validation_split=0.3,  # 30% of data used for validation\n",
        "    rotation_range=20,  # Increase rotation for more variability\n",
        "    zoom_range=0.2,  # Increase zoom for more variability\n",
        "    width_shift_range=0.2,  # Add horizontal shift\n",
        "    height_shift_range=0.2,  # Add vertical shift\n",
        "    shear_range=0.2,  # Shear transformation\n",
        "    brightness_range=[0.8, 1.2],  # Vary brightness\n",
        "    horizontal_flip=True  # Randomly flip images horizontally\n",
        ")\n",
        "\n",
        "# Train generator\n",
        "train_generator = train_datagen.flow_from_directory(\n",
        "    train_data_root,\n",
        "    subset=\"training\",\n",
        "    target_size=IMAGE_SHAPE,\n",
        "    class_mode='categorical',\n",
        "    batch_size=BATCH_SIZE,\n",
        "    shuffle=True\n",
        ")\n",
        "\n",
        "# Validation generator\n",
        "valid_generator = train_datagen.flow_from_directory(\n",
        "    train_data_root,\n",
        "    subset=\"validation\",\n",
        "    target_size=IMAGE_SHAPE,\n",
        "    class_mode='categorical',\n",
        "    batch_size=BATCH_SIZE,\n",
        "    shuffle=False\n",
        ")\n",
        "\n",
        "# Save class indices mapping for future use\n",
        "class_indices = train_generator.class_indices\n",
        "np.save(CLASS_INDICES_SAVE_PATH, class_indices)\n",
        "print(f\"Class indices saved: {class_indices}\")\n",
        "\n",
        "# Load pre-trained ResNet50 model, excluding the top layers\n",
        "base_model = ResNet50(include_top=False, weights='imagenet', input_shape=IMAGE_SHAPE + (3,))\n",
        "\n",
        "# Add custom layers on top of the base model\n",
        "x = base_model.output\n",
        "x = GlobalAveragePooling2D()(x)  # Global pooling layer\n",
        "x = Dense(1024, activation='relu')(x)  # Fully connected layer with 1024 units\n",
        "predictions = Dense(len(class_indices), activation='softmax')(x)  # Output layer for classification\n",
        "\n",
        "# Define the full model\n",
        "model = Model(inputs=base_model.input, outputs=predictions)\n",
        "\n",
        "# Freeze the ResNet50 base layers initially (only train new layers)\n",
        "# Unfreeze more layers for fine-tuning\n",
        "for layer in base_model.layers[-100:]:  # Unfreeze more layers\n",
        "    layer.trainable = True\n",
        "\n",
        "# Re-compile the model with a moderate learning rate for fine-tuning\n",
        "model.compile(optimizer=tf.keras.optimizers.Adam(learning_rate=1e-5),\n",
        "              loss='categorical_crossentropy',\n",
        "              metrics=['accuracy'])\n",
        "\n",
        "# Compile the model with a lower learning rate\n",
        "model.compile(optimizer=tf.keras.optimizers.Adam(learning_rate=1e-4),\n",
        "              loss='categorical_crossentropy',\n",
        "              metrics=['accuracy'])\n",
        "print(\"Model compiled successfully.\")\n",
        "\n",
        "# Early stopping to avoid overfitting, with increased patience\n",
        "early_stopping = EarlyStopping(monitor='val_loss', patience=10, restore_best_weights=True)\n",
        "\n",
        "# Model checkpoint to save the best model based on validation accuracy\n",
        "model_checkpoint = ModelCheckpoint(MODEL_SAVE_PATH, save_best_only=True, monitor='val_loss', mode='min')\n",
        "\n",
        "# List of callbacks\n",
        "callbacks = [early_stopping, model_checkpoint]\n",
        "\n",
        "# Train the model\n",
        "history = model.fit(\n",
        "    train_generator,\n",
        "    validation_data=valid_generator,\n",
        "    epochs=EPOCHS,\n",
        "    steps_per_epoch=train_generator.samples // BATCH_SIZE,\n",
        "    validation_steps=valid_generator.samples // BATCH_SIZE,\n",
        "    callbacks=callbacks\n",
        ")\n",
        "\n",
        "# Save the final model after training\n",
        "final_model_path = '/content/drive/My Drive/FYP/MODELS/resnet50_final_model_v2.keras'\n",
        "model.save(final_model_path)\n",
        "print(f\"Final model saved at: {final_model_path}\")\n",
        "\n",
        "# Unfreeze more layers for fine-tuning (e.g., last 50 layers)\n",
        "for layer in base_model.layers[-50:]:\n",
        "    layer.trainable = True\n",
        "\n",
        "# Re-compile the model with a smaller learning rate for fine-tuning\n",
        "model.compile(optimizer=tf.keras.optimizers.Adam(learning_rate=1e-6),\n",
        "              loss='categorical_crossentropy',\n",
        "              metrics=['accuracy'])\n",
        "\n",
        "# Fine-tune the model\n",
        "history_fine = model.fit(\n",
        "    train_generator,\n",
        "    validation_data=valid_generator,\n",
        "    epochs=20,  # Fine-tune for more epochs\n",
        "    steps_per_epoch=train_generator.samples // BATCH_SIZE,\n",
        "    validation_steps=valid_generator.samples // BATCH_SIZE,\n",
        "    callbacks=callbacks\n",
        ")\n",
        "\n",
        "# Save the fine-tuned model\n",
        "fine_tuned_model_path = '/content/drive/My Drive/FYP/MODELS/resnet50_fine_tuned_model_v2.keras'\n",
        "model.save(fine_tuned_model_path)\n",
        "print(f\"Fine-tuned model saved at: {fine_tuned_model_path}\")\n",
        "\n",
        "# Evaluate the model on validation data\n",
        "val_loss, val_acc = model.evaluate(valid_generator, steps=valid_generator.samples // BATCH_SIZE)\n",
        "print(f\"Validation Loss: {val_loss}\")\n",
        "print(f\"Validation Accuracy: {val_acc}\")\n"
      ],
      "metadata": {
        "colab": {
          "base_uri": "https://localhost:8080/"
        },
        "id": "xpzFFzJ4w6lR",
        "outputId": "23e5e862-2e66-449a-fb87-cee159ae1e1f"
      },
      "execution_count": null,
      "outputs": [
        {
          "output_type": "stream",
          "name": "stdout",
          "text": [
            "Mounted at /content/drive\n",
            "Found 176 images belonging to 2 classes.\n",
            "Found 75 images belonging to 2 classes.\n",
            "Class indices saved: {'Glaucous_Winged_Gull': 0, 'Slaty_Backed_Gull': 1}\n",
            "Downloading data from https://storage.googleapis.com/tensorflow/keras-applications/resnet/resnet50_weights_tf_dim_ordering_tf_kernels_notop.h5\n",
            "\u001b[1m94765736/94765736\u001b[0m \u001b[32m━━━━━━━━━━━━━━━━━━━━\u001b[0m\u001b[37m\u001b[0m \u001b[1m0s\u001b[0m 0us/step\n",
            "Model compiled successfully.\n",
            "Epoch 1/20\n"
          ]
        },
        {
          "output_type": "stream",
          "name": "stderr",
          "text": [
            "/usr/local/lib/python3.10/dist-packages/keras/src/trainers/data_adapters/py_dataset_adapter.py:121: UserWarning: Your `PyDataset` class should call `super().__init__(**kwargs)` in its constructor. `**kwargs` can include `workers`, `use_multiprocessing`, `max_queue_size`. Do not pass these arguments to `fit()`, as they will be ignored.\n",
            "  self._warn_if_super_not_called()\n"
          ]
        },
        {
          "output_type": "stream",
          "name": "stdout",
          "text": [
            "\u001b[1m5/5\u001b[0m \u001b[32m━━━━━━━━━━━━━━━━━━━━\u001b[0m\u001b[37m\u001b[0m \u001b[1m215s\u001b[0m 35s/step - accuracy: 0.5918 - loss: 0.7175 - val_accuracy: 0.4219 - val_loss: 0.7996\n",
            "Epoch 2/20\n",
            "\u001b[1m1/5\u001b[0m \u001b[32m━━━━\u001b[0m\u001b[37m━━━━━━━━━━━━━━━━\u001b[0m \u001b[1m1:51\u001b[0m 28s/step - accuracy: 0.8750 - loss: 0.3262"
          ]
        },
        {
          "output_type": "stream",
          "name": "stderr",
          "text": [
            "/usr/lib/python3.10/contextlib.py:153: UserWarning: Your input ran out of data; interrupting training. Make sure that your dataset or generator can generate at least `steps_per_epoch * epochs` batches. You may need to use the `.repeat()` function when building your dataset.\n",
            "  self.gen.throw(typ, value, traceback)\n"
          ]
        },
        {
          "output_type": "stream",
          "name": "stdout",
          "text": [
            "\b\b\b\b\b\b\b\b\b\b\b\b\b\b\b\b\b\b\b\b\b\b\b\b\b\b\b\b\b\b\b\b\b\b\b\b\b\b\b\b\b\b\b\b\b\b\b\b\b\b\b\b\b\b\b\b\b\b\b\b\b\b\b\b\b\b\b\b\b\b\b\b\r\u001b[1m5/5\u001b[0m \u001b[32m━━━━━━━━━━━━━━━━━━━━\u001b[0m\u001b[37m\u001b[0m \u001b[1m36s\u001b[0m 2s/step - accuracy: 0.8750 - loss: 0.3262 - val_accuracy: 1.0000 - val_loss: 0.4485\n",
            "Epoch 3/20\n",
            "\u001b[1m5/5\u001b[0m \u001b[32m━━━━━━━━━━━━━━━━━━━━\u001b[0m\u001b[37m\u001b[0m \u001b[1m127s\u001b[0m 27s/step - accuracy: 0.9103 - loss: 0.2065 - val_accuracy: 0.4219 - val_loss: 0.7049\n",
            "Epoch 4/20\n",
            "\u001b[1m5/5\u001b[0m \u001b[32m━━━━━━━━━━━━━━━━━━━━\u001b[0m\u001b[37m\u001b[0m \u001b[1m27s\u001b[0m 473ms/step - accuracy: 1.0000 - loss: 0.0542 - val_accuracy: 1.0000 - val_loss: 0.6435\n",
            "Epoch 5/20\n"
          ]
        }
      ]
    }
  ],
  "metadata": {
    "colab": {
      "provenance": [],
      "gpuType": "V28",
      "authorship_tag": "ABX9TyOGCVMhXCdiXkNjC3hTt2JF",
      "include_colab_link": true
    },
    "kernelspec": {
      "display_name": "Python 3",
      "name": "python3"
    },
    "language_info": {
      "name": "python"
    },
    "accelerator": "TPU"
  },
  "nbformat": 4,
  "nbformat_minor": 0
}